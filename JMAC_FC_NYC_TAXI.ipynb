{
 "cells": [
  {
   "cell_type": "markdown",
   "metadata": {},
   "source": [
    "### VOY A HACER LO MISMO QUE EN CLASE, DESPUES DE LAS TRANSFORMACIONES.\n"
   ]
  },
  {
   "cell_type": "code",
   "execution_count": 1,
   "metadata": {},
   "outputs": [],
   "source": [
    "import numpy as np # linear algebra\n",
    "import pandas as pd # data processing, CSV file I/O (e.g. pd.read_csv)\n",
    "\n",
    "# Gradient Boosting\n",
    "import xgboost as xgb\n",
    "\n",
    "# Scikit-learn\n",
    "from sklearn.metrics import mean_squared_error\n",
    "from sklearn.model_selection import KFold\n",
    "from sklearn.preprocessing import LabelEncoder\n",
    "\n",
    "# Graphics\n",
    "import matplotlib.pyplot as plt\n",
    "import seaborn as sns\n",
    "%matplotlib inline"
   ]
  },
  {
   "cell_type": "code",
   "execution_count": 2,
   "metadata": {},
   "outputs": [],
   "source": [
    "import pandas as pd\n",
    "import numpy as np\n",
    "import matplotlib.pyplot as plt\n",
    "import seaborn as sns\n",
    "import geojson\n",
    "import xgboost as xgb\n",
    "import warnings\n",
    "warnings.filterwarnings('ignore')\n",
    "\n",
    "from mpl_toolkits.basemap import Basemap\n",
    "from matplotlib import cm\n",
    "from descartes import PolygonPatch\n",
    "from haversine import haversine\n",
    "\n",
    "from sklearn.model_selection import train_test_split\n",
    "from sklearn.preprocessing import LabelEncoder\n",
    "from sklearn.cluster import MiniBatchKMeans\n",
    "\n",
    "%matplotlib inline"
   ]
  },
  {
   "cell_type": "code",
   "execution_count": 3,
   "metadata": {},
   "outputs": [
    {
     "name": "stderr",
     "output_type": "stream",
     "text": [
      "Using TensorFlow backend.\n"
     ]
    }
   ],
   "source": [
    "import numpy as np # linear algebra\n",
    "import pandas as pd # data processing, CSV file I/O (e.g. pd.read_csv)\n",
    "\n",
    "# Keras\n",
    "import keras\n",
    "from keras.utils.np_utils import to_categorical\n",
    "from keras.models import Sequential\n",
    "from keras.layers import Dense, Dropout\n",
    "from keras.callbacks import EarlyStopping\n",
    "import keras.backend as K\n",
    "\n",
    "# Scikit-learn\n",
    "from sklearn.metrics import mean_squared_error\n",
    "from sklearn.model_selection import KFold\n",
    "from sklearn.preprocessing import StandardScaler,MinMaxScaler, LabelEncoder\n",
    "from sklearn.model_selection import train_test_split\n",
    "\n",
    "\n",
    "# Graphics\n",
    "import matplotlib.pyplot as plt\n",
    "import seaborn as sns\n",
    "%matplotlib inline"
   ]
  },
  {
   "cell_type": "code",
   "execution_count": 4,
   "metadata": {},
   "outputs": [],
   "source": [
    "def rmsle(y_true, y_pred):\n",
    "    return np.sqrt(mean_squared_logarithmic_error(y_true, y_pred))"
   ]
  },
  {
   "cell_type": "code",
   "execution_count": 5,
   "metadata": {},
   "outputs": [],
   "source": [
    "train = pd.read_csv('D:/BBDD/TAXI_NYC/train.csv')\n",
    "test = pd.read_csv(\"D:/BBDD/TAXI_NYC/test.csv\")"
   ]
  },
  {
   "cell_type": "code",
   "execution_count": 6,
   "metadata": {},
   "outputs": [],
   "source": [
    "train['log_trip_duration'] = np.log(train['trip_duration'].values + 1)"
   ]
  },
  {
   "cell_type": "code",
   "execution_count": 7,
   "metadata": {},
   "outputs": [],
   "source": [
    "y= train.log_trip_duration.values"
   ]
  },
  {
   "cell_type": "code",
   "execution_count": 8,
   "metadata": {},
   "outputs": [],
   "source": [
    "id_train = train.id\n",
    "id_test = test.id\n",
    "\n",
    "train.drop(columns=['id'],inplace=True)\n",
    "test.drop(columns=['id'],inplace=True)"
   ]
  },
  {
   "cell_type": "code",
   "execution_count": 9,
   "metadata": {},
   "outputs": [
    {
     "name": "stdout",
     "output_type": "stream",
     "text": [
      "(1458644, 11)\n",
      "(625134, 8)\n"
     ]
    }
   ],
   "source": [
    "print(train.shape)\n",
    "print(test.shape)"
   ]
  },
  {
   "cell_type": "code",
   "execution_count": 10,
   "metadata": {},
   "outputs": [
    {
     "name": "stdout",
     "output_type": "stream",
     "text": [
      "all size is : (2083778, 9)\n"
     ]
    }
   ],
   "source": [
    "ntrain = train.shape[0]\n",
    "ntest = test.shape[0]\n",
    "y = train.log_trip_duration.values\n",
    "all = pd.concat((train, test)).reset_index(drop=True)\n",
    "all.drop(['log_trip_duration', 'trip_duration'], axis=1, inplace=True)\n",
    "print(\"all size is : {}\".format(all.shape))"
   ]
  },
  {
   "cell_type": "code",
   "execution_count": 11,
   "metadata": {},
   "outputs": [
    {
     "data": {
      "text/html": [
       "<div>\n",
       "<style scoped>\n",
       "    .dataframe tbody tr th:only-of-type {\n",
       "        vertical-align: middle;\n",
       "    }\n",
       "\n",
       "    .dataframe tbody tr th {\n",
       "        vertical-align: top;\n",
       "    }\n",
       "\n",
       "    .dataframe thead th {\n",
       "        text-align: right;\n",
       "    }\n",
       "</style>\n",
       "<table border=\"1\" class=\"dataframe\">\n",
       "  <thead>\n",
       "    <tr style=\"text-align: right;\">\n",
       "      <th></th>\n",
       "      <th>dropoff_datetime</th>\n",
       "      <th>dropoff_latitude</th>\n",
       "      <th>dropoff_longitude</th>\n",
       "      <th>passenger_count</th>\n",
       "      <th>pickup_datetime</th>\n",
       "      <th>pickup_latitude</th>\n",
       "      <th>pickup_longitude</th>\n",
       "      <th>store_and_fwd_flag</th>\n",
       "      <th>vendor_id</th>\n",
       "    </tr>\n",
       "  </thead>\n",
       "  <tbody>\n",
       "    <tr>\n",
       "      <th>2083773</th>\n",
       "      <td>NaN</td>\n",
       "      <td>40.733643</td>\n",
       "      <td>-74.001251</td>\n",
       "      <td>1</td>\n",
       "      <td>2016-01-01 00:02:52</td>\n",
       "      <td>40.725105</td>\n",
       "      <td>-74.003464</td>\n",
       "      <td>N</td>\n",
       "      <td>1</td>\n",
       "    </tr>\n",
       "    <tr>\n",
       "      <th>2083774</th>\n",
       "      <td>NaN</td>\n",
       "      <td>40.782467</td>\n",
       "      <td>-73.953407</td>\n",
       "      <td>1</td>\n",
       "      <td>2016-01-01 00:01:52</td>\n",
       "      <td>40.743782</td>\n",
       "      <td>-74.006363</td>\n",
       "      <td>N</td>\n",
       "      <td>1</td>\n",
       "    </tr>\n",
       "    <tr>\n",
       "      <th>2083775</th>\n",
       "      <td>NaN</td>\n",
       "      <td>40.748665</td>\n",
       "      <td>-73.876602</td>\n",
       "      <td>2</td>\n",
       "      <td>2016-01-01 00:01:24</td>\n",
       "      <td>40.759865</td>\n",
       "      <td>-73.972267</td>\n",
       "      <td>N</td>\n",
       "      <td>1</td>\n",
       "    </tr>\n",
       "    <tr>\n",
       "      <th>2083776</th>\n",
       "      <td>NaN</td>\n",
       "      <td>40.891788</td>\n",
       "      <td>-73.854263</td>\n",
       "      <td>1</td>\n",
       "      <td>2016-01-01 00:00:28</td>\n",
       "      <td>40.733562</td>\n",
       "      <td>-73.976501</td>\n",
       "      <td>N</td>\n",
       "      <td>1</td>\n",
       "    </tr>\n",
       "    <tr>\n",
       "      <th>2083777</th>\n",
       "      <td>NaN</td>\n",
       "      <td>40.769379</td>\n",
       "      <td>-73.969330</td>\n",
       "      <td>2</td>\n",
       "      <td>2016-01-01 00:00:22</td>\n",
       "      <td>40.716881</td>\n",
       "      <td>-73.981850</td>\n",
       "      <td>N</td>\n",
       "      <td>2</td>\n",
       "    </tr>\n",
       "  </tbody>\n",
       "</table>\n",
       "</div>"
      ],
      "text/plain": [
       "        dropoff_datetime  dropoff_latitude  dropoff_longitude  \\\n",
       "2083773              NaN         40.733643         -74.001251   \n",
       "2083774              NaN         40.782467         -73.953407   \n",
       "2083775              NaN         40.748665         -73.876602   \n",
       "2083776              NaN         40.891788         -73.854263   \n",
       "2083777              NaN         40.769379         -73.969330   \n",
       "\n",
       "         passenger_count      pickup_datetime  pickup_latitude  \\\n",
       "2083773                1  2016-01-01 00:02:52        40.725105   \n",
       "2083774                1  2016-01-01 00:01:52        40.743782   \n",
       "2083775                2  2016-01-01 00:01:24        40.759865   \n",
       "2083776                1  2016-01-01 00:00:28        40.733562   \n",
       "2083777                2  2016-01-01 00:00:22        40.716881   \n",
       "\n",
       "         pickup_longitude store_and_fwd_flag  vendor_id  \n",
       "2083773        -74.003464                  N          1  \n",
       "2083774        -74.006363                  N          1  \n",
       "2083775        -73.972267                  N          1  \n",
       "2083776        -73.976501                  N          1  \n",
       "2083777        -73.981850                  N          2  "
      ]
     },
     "execution_count": 11,
     "metadata": {},
     "output_type": "execute_result"
    }
   ],
   "source": [
    "all.tail()\n"
   ]
  },
  {
   "cell_type": "code",
   "execution_count": 12,
   "metadata": {},
   "outputs": [
    {
     "name": "stdout",
     "output_type": "stream",
     "text": [
      "1458644\n"
     ]
    }
   ],
   "source": [
    "print(len(y))"
   ]
  },
  {
   "cell_type": "code",
   "execution_count": 13,
   "metadata": {},
   "outputs": [],
   "source": [
    "all['pickup_datetime']  = pd.to_datetime(all['pickup_datetime'])\n",
    "all['dropoff_datetime'] = pd.to_datetime(all['dropoff_datetime'])"
   ]
  },
  {
   "cell_type": "code",
   "execution_count": 14,
   "metadata": {},
   "outputs": [],
   "source": [
    "hf = pd.read_csv(\"D:/BBDD/TAXI_NYC/NYC_2016Holidays.csv\", sep=';')\n",
    "hf['Date']  = pd.to_datetime(hf['Date'])"
   ]
  },
  {
   "cell_type": "code",
   "execution_count": 15,
   "metadata": {},
   "outputs": [],
   "source": [
    "wf = pd.read_csv('D:/BBDD/TAXI_NYC/weather_NY_2016.csv')\n",
    "wf['date']  = pd.to_datetime(wf['date'])"
   ]
  },
  {
   "cell_type": "code",
   "execution_count": 16,
   "metadata": {},
   "outputs": [],
   "source": [
    "min_lat = all['pickup_latitude'].min()\n",
    "max_lat = all['pickup_latitude'].max()\n",
    "min_lon = all['pickup_longitude'].min()\n",
    "max_lon = all['pickup_longitude'].max()"
   ]
  },
  {
   "cell_type": "code",
   "execution_count": 17,
   "metadata": {},
   "outputs": [],
   "source": [
    "coords = np.vstack((all[['pickup_latitude',  'pickup_longitude']].values,\n",
    "                    all[['dropoff_latitude', 'dropoff_longitude']].values,\n",
    "                    all[['pickup_latitude',  'pickup_longitude']].values,\n",
    "                    all[['dropoff_latitude', 'dropoff_longitude']].values))\n",
    "kmeans = MiniBatchKMeans(n_clusters=100, batch_size=10000).fit(coords)"
   ]
  },
  {
   "cell_type": "code",
   "execution_count": 18,
   "metadata": {},
   "outputs": [],
   "source": [
    "def derive_features(all):\n",
    "    all = all.copy()\n",
    "    # Pickup-based features\n",
    "    all['pickup_date'] = all['pickup_datetime'].dt.date\n",
    "    all['pickup_weekday'] = all['pickup_datetime'].dt.weekday\n",
    "    all['pickup_hour'] = all['pickup_datetime'].dt.hour\n",
    "    all['pickup_month'] = all['pickup_datetime'].dt.month\n",
    "    all['pickup_day'] = all['pickup_datetime'].dt.day\n",
    "    # Brand new features\n",
    "    all['haversine_distance'] = all.apply(lambda x: haversine((x['pickup_latitude'],  x['pickup_longitude']), \n",
    "                                                            (x['dropoff_latitude'], x['dropoff_longitude'])), axis=1)\n",
    "    all['pickup_cluster']  = kmeans.predict(all[['pickup_latitude', 'pickup_longitude']])\n",
    "    all['dropoff_cluster'] = kmeans.predict(all[['dropoff_latitude', 'dropoff_longitude']])\n",
    "    return all"
   ]
  },
  {
   "cell_type": "code",
   "execution_count": 19,
   "metadata": {},
   "outputs": [],
   "source": [
    "all = derive_features(all)"
   ]
  },
  {
   "cell_type": "code",
   "execution_count": 20,
   "metadata": {},
   "outputs": [],
   "source": [
    "json_data = geojson.load(open('D:/BBDD/TAXI_NYC/community-districts-polygon.geojson'))\n",
    "json_data.keys()\n",
    "polygons = json_data['features']\n",
    "FILL = '#6699cc'\n",
    "CONT = '#1a169e'"
   ]
  },
  {
   "cell_type": "code",
   "execution_count": 21,
   "metadata": {},
   "outputs": [],
   "source": [
    "def clean_data(all):\n",
    "    all = all.copy()\n",
    "    #all = all[(all['log_trip_duration'] > 60) & (all['log_trip_duration'] < 3600 * 24)] # Trip duration filtering\n",
    "    all = all[(all['haversine_distance'] > 0.01)] # Distance filtering\n",
    "    return all"
   ]
  },
  {
   "cell_type": "code",
   "execution_count": 22,
   "metadata": {},
   "outputs": [],
   "source": [
    "all = clean_data(all)"
   ]
  },
  {
   "cell_type": "code",
   "execution_count": 23,
   "metadata": {},
   "outputs": [],
   "source": [
    "wf = wf.replace(to_replace='T', value=0.01)\n",
    "\n",
    "wf['precipitation'] = pd.to_numeric(wf['precipitation'])\n",
    "wf['snow fall'] = pd.to_numeric(wf['snow fall'])\n",
    "wf['snow depth'] = pd.to_numeric(wf['snow depth'])"
   ]
  },
  {
   "cell_type": "code",
   "execution_count": 24,
   "metadata": {
    "scrolled": true
   },
   "outputs": [],
   "source": [
    "all['pickup_date']   = pd.to_datetime(all['pickup_date'])\n",
    "mf_train = all.merge(wf, left_on='pickup_date', right_on='date', how='inner')\n",
    "#mf_train.tail()"
   ]
  },
  {
   "cell_type": "code",
   "execution_count": 25,
   "metadata": {},
   "outputs": [],
   "source": [
    "all = mf_train"
   ]
  },
  {
   "cell_type": "code",
   "execution_count": 26,
   "metadata": {},
   "outputs": [],
   "source": [
    "#all = all[all['trip_duration'] <  all['trip_duration'].quantile(0.999)]\n",
    "#all = all[all['trip_duration'] <= all['trip_duration'].mean() + 3*all['trip_duration'].std()]\n",
    "#print(' max time in min {:.2f} and mean time in sec {:.2f} '.format(\n",
    "    #all['trip_duration'].max()/60, all['trip_duration'].mean()))"
   ]
  },
  {
   "cell_type": "code",
   "execution_count": 27,
   "metadata": {},
   "outputs": [],
   "source": [
    "ep = 0.0001      \n",
    "(lng1,lng2)=(-74.257*(1+ep), -73.699*(1-ep))\n",
    "(lat1,lat2)=(40.495*(1+ep), 40.915*(1-ep)) \n",
    "all = all[(all['pickup_longitude'] <=lng2)&(all['pickup_longitude'] >=lng1)]\n",
    "all = all[(all['pickup_latitude'] <=lat2) & (all['pickup_latitude'] >=lat1)]\n",
    "all = all[(all['dropoff_longitude'] <=lng2)&(all['dropoff_longitude'] >=lng1)]\n",
    "all = all[(all['dropoff_latitude'] <=lat2)&(all['dropoff_latitude'] >=lat1)]\n"
   ]
  },
  {
   "cell_type": "code",
   "execution_count": 28,
   "metadata": {},
   "outputs": [],
   "source": [
    "from pandas.tseries.holiday import USFederalHolidayCalendar as calendar"
   ]
  },
  {
   "cell_type": "code",
   "execution_count": 29,
   "metadata": {},
   "outputs": [
    {
     "name": "stdout",
     "output_type": "stream",
     "text": [
      "<class 'pandas.core.frame.DataFrame'>\n",
      "Int64Index: 2069818 entries, 0 to 2071359\n",
      "Data columns (total 27 columns):\n",
      "dropoff_latitude       float64\n",
      "dropoff_longitude      float64\n",
      "passenger_count        int64\n",
      "pickup_latitude        float64\n",
      "pickup_longitude       float64\n",
      "store_and_fwd_flag     int32\n",
      "vendor_id              int64\n",
      "pickup_date            datetime64[ns]\n",
      "pickup_weekday         int64\n",
      "pickup_hour            int64\n",
      "pickup_month           int64\n",
      "pickup_day             int64\n",
      "haversine_distance     float64\n",
      "pickup_cluster         int32\n",
      "dropoff_cluster        int32\n",
      "date                   datetime64[ns]\n",
      "maximum temperature    int64\n",
      "minimum temperature    int64\n",
      "average temperature    float64\n",
      "precipitation          float64\n",
      "snow fall              float64\n",
      "snow depth             float64\n",
      "Month                  int64\n",
      "DayofMonth             int64\n",
      "Timehm                 float64\n",
      "dayofweek              int64\n",
      "Holiday                int32\n",
      "dtypes: datetime64[ns](2), float64(10), int32(4), int64(11)\n",
      "memory usage: 410.6 MB\n"
     ]
    }
   ],
   "source": [
    "#train['log_trip_duration'] = np.log(train['trip_duration'].values + 1)\n",
    "all['pickup_datetime'] = pd.to_datetime(all.pickup_datetime)\n",
    "all['Month'] = all['pickup_datetime'].dt.month\n",
    "all['DayofMonth'] = all['pickup_datetime'].dt.day\n",
    "all['Timehm'] = all['pickup_datetime'].dt.hour+all['pickup_datetime'].dt.minute/60\n",
    "all['dayofweek'] = all['pickup_datetime'].dt.dayofweek\n",
    "\n",
    "holidays = calendar().holidays(start='2015-12-31', end='2016-07-01')\n",
    "all['Holiday']=all['pickup_datetime'].dt.date.astype('datetime64[ns]').isin(holidays).astype(int)\n",
    "all.drop(['dropoff_datetime','pickup_datetime'], axis=1,inplace=True)\n",
    "all['store_and_fwd_flag'] = all['store_and_fwd_flag'].map({'N': 0, 'Y':1}).astype(int)\n",
    "all.info()\n"
   ]
  },
  {
   "cell_type": "code",
   "execution_count": 30,
   "metadata": {},
   "outputs": [],
   "source": [
    "def haversine_array(lat1, lng1, lat2, lng2):\n",
    "    lat1, lng1, lat2, lng2 = map(np.radians, (lat1, lng1, lat2, lng2))\n",
    "    d = np.sin(lat2/2-lat1/2)**2 + np.cos(lat1) * np.cos(lat2) * np.sin(lng2/2-lng1/2)**2\n",
    "    return 2 * 6371 * np.arcsin(np.sqrt(d))"
   ]
  },
  {
   "cell_type": "code",
   "execution_count": 31,
   "metadata": {},
   "outputs": [],
   "source": [
    "#def haversine_array(lat1, lng1, lat2, lng2):\n",
    "    #lat1, lng1, lat2, lng2 = map(np.radians, (lat1, lng1, lat2, lng2))\n",
    "    #d = np.sin(lat2/2-lat1/2)**2 + np.cos(lat1) * np.cos(lat2) * np.sin(lng2/2-lng1/2)**2\n",
    "    #return 2 * 6371 * np.arcsin(np.sqrt(d))"
   ]
  },
  {
   "cell_type": "code",
   "execution_count": 32,
   "metadata": {},
   "outputs": [],
   "source": [
    "def dummy_manhattan_distance(lat1, lng1, lat2, lng2):\n",
    "    return haversine_array(lat1,lng1,lat1,lng2)+haversine_array(lat1,lng1,lat2,lng1)"
   ]
  },
  {
   "cell_type": "code",
   "execution_count": 33,
   "metadata": {},
   "outputs": [],
   "source": [
    "def bearing_array(lat1, lng1, lat2, lng2):\n",
    "    lat1, lng1, lat2, lng2 = map(np.radians, (lat1, lng1, lat2, lng2))\n",
    "    y = np.sin(lng2 - lng1) * np.cos(lat2)\n",
    "    x = np.cos(lat1) * np.sin(lat2) - np.sin(lat1) * np.cos(lat2) * np.cos(lng2 - lng1)\n",
    "    return np.degrees(np.arctan2(y, x))"
   ]
  },
  {
   "cell_type": "code",
   "execution_count": 34,
   "metadata": {},
   "outputs": [
    {
     "data": {
      "text/plain": [
       "(2069818, 30)"
      ]
     },
     "execution_count": 34,
     "metadata": {},
     "output_type": "execute_result"
    }
   ],
   "source": [
    "all['distance_haversine'] = haversine_array(all['pickup_latitude'].values, all['pickup_longitude'].values, \n",
    "                                          all['dropoff_latitude'].values, all['dropoff_longitude'].values)\n",
    "\n",
    "all['distance_dummy_manhattan'] =  dummy_manhattan_distance(all['pickup_latitude'].values, \n",
    "            all['pickup_longitude'].values, all['dropoff_latitude'].values, all['dropoff_longitude'].values)\n",
    "\n",
    "all['direction'] = bearing_array(all['pickup_latitude'].values, all['pickup_longitude'].values, \n",
    "                                      all['dropoff_latitude'].values, all['dropoff_longitude'].values)\n",
    "all.shape"
   ]
  },
  {
   "cell_type": "code",
   "execution_count": 35,
   "metadata": {},
   "outputs": [
    {
     "data": {
      "text/plain": [
       "(2069818, 30)"
      ]
     },
     "execution_count": 35,
     "metadata": {},
     "output_type": "execute_result"
    }
   ],
   "source": [
    "coords = np.vstack((all[['pickup_latitude', 'pickup_longitude']].values,\n",
    "                    all[['dropoff_latitude', 'dropoff_longitude']].values))\n",
    "sample_ind = np.random.permutation(len(coords))[:1000000]\n",
    "kmeans = MiniBatchKMeans(n_clusters=9**2, batch_size=36**3).fit(coords[sample_ind])\n",
    "all['pickup_cluster'] = kmeans.predict(all[['pickup_latitude', 'pickup_longitude']])\n",
    "all['dropoff_cluster'] = kmeans.predict(all[['dropoff_latitude', 'dropoff_longitude']])\n",
    "all.shape"
   ]
  },
  {
   "cell_type": "code",
   "execution_count": 36,
   "metadata": {},
   "outputs": [],
   "source": [
    "from sklearn.decomposition import PCA"
   ]
  },
  {
   "cell_type": "code",
   "execution_count": 37,
   "metadata": {},
   "outputs": [
    {
     "data": {
      "text/plain": [
       "(2069818, 37)"
      ]
     },
     "execution_count": 37,
     "metadata": {},
     "output_type": "execute_result"
    }
   ],
   "source": [
    "pca = PCA().fit(coords)\n",
    "all['pickup_pca0'] = pca.transform(all[['pickup_latitude', 'pickup_longitude']])[:, 0]\n",
    "all['pickup_pca1'] = pca.transform(all[['pickup_latitude', 'pickup_longitude']])[:, 1]\n",
    "all['dropoff_pca0'] = pca.transform(all[['dropoff_latitude', 'dropoff_longitude']])[:, 0]\n",
    "all['dropoff_pca1'] = pca.transform(all[['dropoff_latitude', 'dropoff_longitude']])[:, 1]\n",
    "all['pca_manhattan'] = np.abs(all['dropoff_pca1']-all['pickup_pca1']) +  np.abs(\n",
    "                                 all['dropoff_pca0']-all['pickup_pca0'])\n",
    "all['center_latitude'] = 0.5*all['pickup_latitude']+0.5*all['dropoff_latitude']\n",
    "all['center_longitude'] = 0.5*all['pickup_longitude']+0.5*all['dropoff_longitude']\n",
    "#del coords, sample_ind, kmeans\n",
    "all.shape"
   ]
  },
  {
   "cell_type": "code",
   "execution_count": 38,
   "metadata": {},
   "outputs": [
    {
     "name": "stdout",
     "output_type": "stream",
     "text": [
      "False\n"
     ]
    }
   ],
   "source": [
    "flag=False\n",
    "if flag:\n",
    "    cols=['id', 'total_distance', 'total_travel_time',  'number_of_steps']\n",
    "    fr1 = pd.read_csv(myfolder+'fastest_routes_train_part_1.csv', usecols=cols)\n",
    "    fr2 = pd.read_csv(myfolder+'fastest_routes_train_part_2.csv', usecols=cols)\n",
    "    fr3 = pd.read_csv(myfolder+'fastest_routes_test.csv', usecols=cols)\n",
    "    tmp = pd.concat((fr1, fr2, fr3))\n",
    "    tmp.columns=['id', 'OSRM_distance', 'OSRM_time',  'OSRM_steps']\n",
    "    Data = Data.merge(tmp, how='left', on='id')\n",
    "    del fr1, fr2, fr3, tmp\n",
    "    gc.collect()\n",
    "    Data.shape\n",
    "print(flag)  "
   ]
  },
  {
   "cell_type": "code",
   "execution_count": null,
   "metadata": {},
   "outputs": [],
   "source": []
  },
  {
   "cell_type": "code",
   "execution_count": 39,
   "metadata": {},
   "outputs": [],
   "source": [
    "train = all[:ntrain]\n",
    "test = all[ntrain:]"
   ]
  },
  {
   "cell_type": "code",
   "execution_count": 40,
   "metadata": {},
   "outputs": [
    {
     "name": "stdout",
     "output_type": "stream",
     "text": [
      "<class 'pandas.core.frame.DataFrame'>\n",
      "Int64Index: 1458644 entries, 0 to 1459739\n",
      "Data columns (total 37 columns):\n",
      "dropoff_latitude            1458644 non-null float64\n",
      "dropoff_longitude           1458644 non-null float64\n",
      "passenger_count             1458644 non-null int64\n",
      "pickup_latitude             1458644 non-null float64\n",
      "pickup_longitude            1458644 non-null float64\n",
      "store_and_fwd_flag          1458644 non-null int32\n",
      "vendor_id                   1458644 non-null int64\n",
      "pickup_date                 1458644 non-null datetime64[ns]\n",
      "pickup_weekday              1458644 non-null int64\n",
      "pickup_hour                 1458644 non-null int64\n",
      "pickup_month                1458644 non-null int64\n",
      "pickup_day                  1458644 non-null int64\n",
      "haversine_distance          1458644 non-null float64\n",
      "pickup_cluster              1458644 non-null int32\n",
      "dropoff_cluster             1458644 non-null int32\n",
      "date                        1458644 non-null datetime64[ns]\n",
      "maximum temperature         1458644 non-null int64\n",
      "minimum temperature         1458644 non-null int64\n",
      "average temperature         1458644 non-null float64\n",
      "precipitation               1458644 non-null float64\n",
      "snow fall                   1458644 non-null float64\n",
      "snow depth                  1458644 non-null float64\n",
      "Month                       1458644 non-null int64\n",
      "DayofMonth                  1458644 non-null int64\n",
      "Timehm                      1458644 non-null float64\n",
      "dayofweek                   1458644 non-null int64\n",
      "Holiday                     1458644 non-null int32\n",
      "distance_haversine          1458644 non-null float64\n",
      "distance_dummy_manhattan    1458644 non-null float64\n",
      "direction                   1458644 non-null float64\n",
      "pickup_pca0                 1458644 non-null float64\n",
      "pickup_pca1                 1458644 non-null float64\n",
      "dropoff_pca0                1458644 non-null float64\n",
      "dropoff_pca1                1458644 non-null float64\n",
      "pca_manhattan               1458644 non-null float64\n",
      "center_latitude             1458644 non-null float64\n",
      "center_longitude            1458644 non-null float64\n",
      "dtypes: datetime64[ns](2), float64(20), int32(4), int64(11)\n",
      "memory usage: 400.6 MB\n"
     ]
    }
   ],
   "source": [
    "train.info()"
   ]
  },
  {
   "cell_type": "code",
   "execution_count": 41,
   "metadata": {},
   "outputs": [
    {
     "name": "stdout",
     "output_type": "stream",
     "text": [
      "<class 'pandas.core.frame.DataFrame'>\n",
      "Int64Index: 611174 entries, 1459740 to 2071359\n",
      "Data columns (total 37 columns):\n",
      "dropoff_latitude            611174 non-null float64\n",
      "dropoff_longitude           611174 non-null float64\n",
      "passenger_count             611174 non-null int64\n",
      "pickup_latitude             611174 non-null float64\n",
      "pickup_longitude            611174 non-null float64\n",
      "store_and_fwd_flag          611174 non-null int32\n",
      "vendor_id                   611174 non-null int64\n",
      "pickup_date                 611174 non-null datetime64[ns]\n",
      "pickup_weekday              611174 non-null int64\n",
      "pickup_hour                 611174 non-null int64\n",
      "pickup_month                611174 non-null int64\n",
      "pickup_day                  611174 non-null int64\n",
      "haversine_distance          611174 non-null float64\n",
      "pickup_cluster              611174 non-null int32\n",
      "dropoff_cluster             611174 non-null int32\n",
      "date                        611174 non-null datetime64[ns]\n",
      "maximum temperature         611174 non-null int64\n",
      "minimum temperature         611174 non-null int64\n",
      "average temperature         611174 non-null float64\n",
      "precipitation               611174 non-null float64\n",
      "snow fall                   611174 non-null float64\n",
      "snow depth                  611174 non-null float64\n",
      "Month                       611174 non-null int64\n",
      "DayofMonth                  611174 non-null int64\n",
      "Timehm                      611174 non-null float64\n",
      "dayofweek                   611174 non-null int64\n",
      "Holiday                     611174 non-null int32\n",
      "distance_haversine          611174 non-null float64\n",
      "distance_dummy_manhattan    611174 non-null float64\n",
      "direction                   611174 non-null float64\n",
      "pickup_pca0                 611174 non-null float64\n",
      "pickup_pca1                 611174 non-null float64\n",
      "dropoff_pca0                611174 non-null float64\n",
      "dropoff_pca1                611174 non-null float64\n",
      "pca_manhattan               611174 non-null float64\n",
      "center_latitude             611174 non-null float64\n",
      "center_longitude            611174 non-null float64\n",
      "dtypes: datetime64[ns](2), float64(20), int32(4), int64(11)\n",
      "memory usage: 167.9 MB\n"
     ]
    }
   ],
   "source": [
    "test.info()"
   ]
  },
  {
   "cell_type": "code",
   "execution_count": 42,
   "metadata": {},
   "outputs": [],
   "source": [
    "train.drop(['pickup_date', 'date'], axis=1, inplace=True)\n",
    "test.drop(['pickup_date', 'date'],axis=1, inplace=True )"
   ]
  },
  {
   "cell_type": "code",
   "execution_count": 43,
   "metadata": {},
   "outputs": [
    {
     "data": {
      "text/plain": [
       "dropoff_latitude            0\n",
       "dropoff_longitude           0\n",
       "passenger_count             0\n",
       "pickup_latitude             0\n",
       "pickup_longitude            0\n",
       "store_and_fwd_flag          0\n",
       "vendor_id                   0\n",
       "pickup_weekday              0\n",
       "pickup_hour                 0\n",
       "pickup_month                0\n",
       "pickup_day                  0\n",
       "haversine_distance          0\n",
       "pickup_cluster              0\n",
       "dropoff_cluster             0\n",
       "maximum temperature         0\n",
       "minimum temperature         0\n",
       "average temperature         0\n",
       "precipitation               0\n",
       "snow fall                   0\n",
       "snow depth                  0\n",
       "Month                       0\n",
       "DayofMonth                  0\n",
       "Timehm                      0\n",
       "dayofweek                   0\n",
       "Holiday                     0\n",
       "distance_haversine          0\n",
       "distance_dummy_manhattan    0\n",
       "direction                   0\n",
       "pickup_pca0                 0\n",
       "pickup_pca1                 0\n",
       "dropoff_pca0                0\n",
       "dropoff_pca1                0\n",
       "pca_manhattan               0\n",
       "center_latitude             0\n",
       "center_longitude            0\n",
       "dtype: int64"
      ]
     },
     "execution_count": 43,
     "metadata": {},
     "output_type": "execute_result"
    }
   ],
   "source": [
    "np.sum(train.isna())"
   ]
  },
  {
   "cell_type": "code",
   "execution_count": 44,
   "metadata": {},
   "outputs": [
    {
     "data": {
      "text/plain": [
       "dropoff_latitude            0\n",
       "dropoff_longitude           0\n",
       "passenger_count             0\n",
       "pickup_latitude             0\n",
       "pickup_longitude            0\n",
       "store_and_fwd_flag          0\n",
       "vendor_id                   0\n",
       "pickup_weekday              0\n",
       "pickup_hour                 0\n",
       "pickup_month                0\n",
       "pickup_day                  0\n",
       "haversine_distance          0\n",
       "pickup_cluster              0\n",
       "dropoff_cluster             0\n",
       "maximum temperature         0\n",
       "minimum temperature         0\n",
       "average temperature         0\n",
       "precipitation               0\n",
       "snow fall                   0\n",
       "snow depth                  0\n",
       "Month                       0\n",
       "DayofMonth                  0\n",
       "Timehm                      0\n",
       "dayofweek                   0\n",
       "Holiday                     0\n",
       "distance_haversine          0\n",
       "distance_dummy_manhattan    0\n",
       "direction                   0\n",
       "pickup_pca0                 0\n",
       "pickup_pca1                 0\n",
       "dropoff_pca0                0\n",
       "dropoff_pca1                0\n",
       "pca_manhattan               0\n",
       "center_latitude             0\n",
       "center_longitude            0\n",
       "dtype: int64"
      ]
     },
     "execution_count": 44,
     "metadata": {},
     "output_type": "execute_result"
    }
   ],
   "source": [
    "np.sum(test.isna())"
   ]
  },
  {
   "cell_type": "code",
   "execution_count": 45,
   "metadata": {},
   "outputs": [
    {
     "name": "stdout",
     "output_type": "stream",
     "text": [
      "(1166915, 35)\n",
      "(1166915,)\n",
      "(291729, 35)\n",
      "(291729,)\n"
     ]
    }
   ],
   "source": [
    "x_train, x_val, y_train, y_val = train_test_split(train.values,y,test_size=0.2, random_state=2019)\n",
    "print(x_train.shape)\n",
    "print(y_train.shape)\n",
    "print(x_val.shape)\n",
    "print(y_val.shape)"
   ]
  },
  {
   "cell_type": "code",
   "execution_count": 46,
   "metadata": {},
   "outputs": [
    {
     "name": "stdout",
     "output_type": "stream",
     "text": [
      "(1166915, 35)\n"
     ]
    }
   ],
   "source": [
    "x_test = test.values\n",
    "print(x_train.shape)"
   ]
  },
  {
   "cell_type": "code",
   "execution_count": 47,
   "metadata": {},
   "outputs": [],
   "source": [
    "scaler =  StandardScaler() #MinMaxScaler()\n",
    "x_train = scaler.fit_transform(x_train)\n",
    "x_val = scaler.transform(x_val)\n",
    "x_test = scaler.transform(x_test)"
   ]
  },
  {
   "cell_type": "code",
   "execution_count": 98,
   "metadata": {},
   "outputs": [],
   "source": [
    "INPUT_SHAPE = x_train.shape[1]\n",
    "\n",
    "# Model\n",
    "model = Sequential()\n",
    "model.add(Dense(2048, input_shape=(INPUT_SHAPE,), kernel_initializer='normal', activation='relu'))\n",
    "model.add(Dense(1024, kernel_initializer='normal', activation='relu'))\n",
    "model.add(Dense(512, kernel_initializer='normal', activation='relu'))\n",
    "model.add(Dense(256, kernel_initializer='normal', activation='relu'))\n",
    "model.add(Dense(128, kernel_initializer='normal', activation='relu'))\n",
    "model.add(Dense(64, kernel_initializer='normal', activation='relu'))\n",
    "model.add(Dense(32, kernel_initializer='normal', activation='relu'))\n",
    "model.add(Dense(1, kernel_initializer='normal'))\n",
    "\n",
    "# Compile model\n",
    "def root_mean_squared_error(y_true, y_pred):\n",
    "        return K.sqrt(K.mean(K.square(y_pred - y_true), axis=-1)) \n",
    "\n",
    "model.compile(loss=root_mean_squared_error, optimizer='rmsprop')\n"
   ]
  },
  {
   "cell_type": "code",
   "execution_count": 99,
   "metadata": {},
   "outputs": [
    {
     "name": "stdout",
     "output_type": "stream",
     "text": [
      "_________________________________________________________________\n",
      "Layer (type)                 Output Shape              Param #   \n",
      "=================================================================\n",
      "dense_93 (Dense)             (None, 2048)              73728     \n",
      "_________________________________________________________________\n",
      "dense_94 (Dense)             (None, 1024)              2098176   \n",
      "_________________________________________________________________\n",
      "dense_95 (Dense)             (None, 512)               524800    \n",
      "_________________________________________________________________\n",
      "dense_96 (Dense)             (None, 256)               131328    \n",
      "_________________________________________________________________\n",
      "dense_97 (Dense)             (None, 128)               32896     \n",
      "_________________________________________________________________\n",
      "dense_98 (Dense)             (None, 64)                8256      \n",
      "_________________________________________________________________\n",
      "dense_99 (Dense)             (None, 32)                2080      \n",
      "_________________________________________________________________\n",
      "dense_100 (Dense)            (None, 1)                 33        \n",
      "=================================================================\n",
      "Total params: 2,871,297\n",
      "Trainable params: 2,871,297\n",
      "Non-trainable params: 0\n",
      "_________________________________________________________________\n"
     ]
    }
   ],
   "source": [
    "model.summary()"
   ]
  },
  {
   "cell_type": "code",
   "execution_count": 108,
   "metadata": {},
   "outputs": [
    {
     "name": "stdout",
     "output_type": "stream",
     "text": [
      "Train on 1166915 samples, validate on 291729 samples\n",
      "Epoch 1/100\n",
      "1166915/1166915 [==============================] - 183s 157us/step - loss: 0.7467 - val_loss: 0.7049\n",
      "Epoch 2/100\n",
      "1166915/1166915 [==============================] - 182s 156us/step - loss: 0.7260 - val_loss: 0.7092\n",
      "Epoch 3/100\n",
      "1166915/1166915 [==============================] - 183s 157us/step - loss: 0.7113 - val_loss: 0.7033\n",
      "Epoch 4/100\n",
      "1166915/1166915 [==============================] - 181s 155us/step - loss: nan - val_loss: nan\n",
      "Epoch 5/100\n",
      "1166915/1166915 [==============================] - 182s 156us/step - loss: nan - val_loss: nan\n",
      "Epoch 6/100\n",
      "1166915/1166915 [==============================] - 183s 157us/step - loss: nan - val_loss: nan\n"
     ]
    }
   ],
   "source": [
    "history = model.fit(x_train, y_train,\n",
    "          batch_size=2048,\n",
    "          epochs=100,\n",
    "          validation_data = (x_val, y_val),\n",
    "          callbacks = [EarlyStopping(monitor='val_loss',patience=3,restore_best_weights=True)])\n"
   ]
  },
  {
   "cell_type": "code",
   "execution_count": 109,
   "metadata": {},
   "outputs": [
    {
     "data": {
      "text/plain": [
       "<Figure size 432x288 with 0 Axes>"
      ]
     },
     "execution_count": 109,
     "metadata": {},
     "output_type": "execute_result"
    },
    {
     "data": {
      "image/png": "[encoded data removed]",
      "text/plain": [
       "<Figure size 432x288 with 1 Axes>"
      ]
     },
     "metadata": {
      "needs_background": "light"
     },
     "output_type": "display_data"
    },
    {
     "data": {
      "text/plain": [
       "<Figure size 432x288 with 0 Axes>"
      ]
     },
     "metadata": {},
     "output_type": "display_data"
    }
   ],
   "source": [
    "loss = history.history['loss']\n",
    "val_loss = history.history['val_loss']\n",
    "\n",
    "epochs = range(1, len(loss)+1)\n",
    "\n",
    "plt.plot(epochs, loss, 'bo', label='Training loss')\n",
    "plt.plot(epochs, val_loss, 'b', label='Validation loss')\n",
    "plt.title('Training and validation loss')\n",
    "plt.legend()\n",
    "\n",
    "plt.figure()"
   ]
  },
  {
   "cell_type": "code",
   "execution_count": 110,
   "metadata": {},
   "outputs": [],
   "source": [
    "ypred = model.predict(x_test)"
   ]
  },
  {
   "cell_type": "code",
   "execution_count": 111,
   "metadata": {},
   "outputs": [],
   "source": [
    "pred = np.exp(ypred)-1"
   ]
  },
  {
   "cell_type": "code",
   "execution_count": 112,
   "metadata": {},
   "outputs": [
    {
     "data": {
      "text/plain": [
       "array([[ 931.7851],\n",
       "       [1029.767 ],\n",
       "       [ 859.9432],\n",
       "       ...,\n",
       "       [1121.5176],\n",
       "       [1123.2006],\n",
       "       [ 805.3899]], dtype=float32)"
      ]
     },
     "execution_count": 112,
     "metadata": {},
     "output_type": "execute_result"
    }
   ],
   "source": [
    "pred"
   ]
  },
  {
   "cell_type": "code",
   "execution_count": null,
   "metadata": {},
   "outputs": [],
   "source": []
  },
  {
   "cell_type": "markdown",
   "metadata": {},
   "source": [
    "#########################################################################################################################"
   ]
  },
  {
   "cell_type": "code",
   "execution_count": null,
   "metadata": {},
   "outputs": [],
   "source": []
  },
  {
   "cell_type": "code",
   "execution_count": null,
   "metadata": {},
   "outputs": [],
   "source": []
  },
  {
   "cell_type": "code",
   "execution_count": null,
   "metadata": {},
   "outputs": [],
   "source": []
  },
  {
   "cell_type": "code",
   "execution_count": null,
   "metadata": {},
   "outputs": [],
   "source": []
  },
  {
   "cell_type": "code",
   "execution_count": null,
   "metadata": {},
   "outputs": [],
   "source": []
  },
  {
   "cell_type": "code",
   "execution_count": null,
   "metadata": {},
   "outputs": [],
   "source": []
  }
 ],
 "metadata": {
  "kernelspec": {
   "display_name": "Python 3",
   "language": "python",
   "name": "python3"
  },
  "language_info": {
   "codemirror_mode": {
    "name": "ipython",
    "version": 3
   },
   "file_extension": ".py",
   "mimetype": "text/x-python",
   "name": "python",
   "nbconvert_exporter": "python",
   "pygments_lexer": "ipython3",
   "version": "3.7.3"
  }
 },
 "nbformat": 4,
 "nbformat_minor": 2
}
