{
 "cells": [
  {
   "cell_type": "code",
   "execution_count": 1,
   "metadata": {},
   "outputs": [],
   "source": [
    "import pandas as pd\n",
    "import numpy as np\n",
    "import matplotlib.pyplot as plt\n",
    "import seaborn as sns\n",
    "import geojson\n",
    "import xgboost as xgb\n",
    "import warnings\n",
    "warnings.filterwarnings('ignore')\n",
    "\n",
    "from mpl_toolkits.basemap import Basemap\n",
    "from matplotlib import cm\n",
    "from descartes import PolygonPatch\n",
    "from haversine import haversine\n",
    "\n",
    "from sklearn.model_selection import train_test_split\n",
    "from sklearn.preprocessing import LabelEncoder\n",
    "from sklearn.cluster import MiniBatchKMeans\n",
    "\n",
    "%matplotlib inline"
   ]
  },
  {
   "cell_type": "code",
   "execution_count": 2,
   "metadata": {},
   "outputs": [],
   "source": [
    "train = pd.read_csv(\"D:/BBDD/TAXI_NYC/train.csv\")\n",
    "test = pd.read_csv(\"D:/BBDD/TAXI_NYC/test.csv\")"
   ]
  },
  {
   "cell_type": "code",
   "execution_count": 3,
   "metadata": {},
   "outputs": [],
   "source": [
    "id_train = train.id\n",
    "id_test = test.id\n",
    "\n",
    "train.drop(columns=['id'],inplace=True)\n",
    "test.drop(columns=['id'],inplace=True)"
   ]
  },
  {
   "cell_type": "code",
   "execution_count": 4,
   "metadata": {},
   "outputs": [
    {
     "name": "stdout",
     "output_type": "stream",
     "text": [
      "(1458644, 10)\n",
      "(625134, 8)\n"
     ]
    }
   ],
   "source": [
    "print(train.shape)\n",
    "print(test.shape)"
   ]
  },
  {
   "cell_type": "code",
   "execution_count": 5,
   "metadata": {},
   "outputs": [],
   "source": [
    "#train.head()"
   ]
  },
  {
   "cell_type": "code",
   "execution_count": 6,
   "metadata": {},
   "outputs": [],
   "source": [
    "train['pickup_datetime']  = pd.to_datetime(train['pickup_datetime'])\n",
    "train['dropoff_datetime'] = pd.to_datetime(train['dropoff_datetime'])"
   ]
  },
  {
   "cell_type": "code",
   "execution_count": 7,
   "metadata": {},
   "outputs": [],
   "source": [
    "test['pickup_datetime']  = pd.to_datetime(test['pickup_datetime'])\n",
    "\n"
   ]
  },
  {
   "cell_type": "code",
   "execution_count": 8,
   "metadata": {
    "scrolled": true
   },
   "outputs": [
    {
     "data": {
      "text/html": [
       "<div>\n",
       "<style scoped>\n",
       "    .dataframe tbody tr th:only-of-type {\n",
       "        vertical-align: middle;\n",
       "    }\n",
       "\n",
       "    .dataframe tbody tr th {\n",
       "        vertical-align: top;\n",
       "    }\n",
       "\n",
       "    .dataframe thead th {\n",
       "        text-align: right;\n",
       "    }\n",
       "</style>\n",
       "<table border=\"1\" class=\"dataframe\">\n",
       "  <thead>\n",
       "    <tr style=\"text-align: right;\">\n",
       "      <th></th>\n",
       "      <th>vendor_id</th>\n",
       "      <th>pickup_datetime</th>\n",
       "      <th>dropoff_datetime</th>\n",
       "      <th>passenger_count</th>\n",
       "      <th>pickup_longitude</th>\n",
       "      <th>pickup_latitude</th>\n",
       "      <th>dropoff_longitude</th>\n",
       "      <th>dropoff_latitude</th>\n",
       "      <th>store_and_fwd_flag</th>\n",
       "      <th>trip_duration</th>\n",
       "    </tr>\n",
       "  </thead>\n",
       "  <tbody>\n",
       "    <tr>\n",
       "      <th>0</th>\n",
       "      <td>2</td>\n",
       "      <td>2016-03-14 17:24:55</td>\n",
       "      <td>2016-03-14 17:32:30</td>\n",
       "      <td>1</td>\n",
       "      <td>-73.982155</td>\n",
       "      <td>40.767937</td>\n",
       "      <td>-73.964630</td>\n",
       "      <td>40.765602</td>\n",
       "      <td>N</td>\n",
       "      <td>455</td>\n",
       "    </tr>\n",
       "    <tr>\n",
       "      <th>1</th>\n",
       "      <td>1</td>\n",
       "      <td>2016-06-12 00:43:35</td>\n",
       "      <td>2016-06-12 00:54:38</td>\n",
       "      <td>1</td>\n",
       "      <td>-73.980415</td>\n",
       "      <td>40.738564</td>\n",
       "      <td>-73.999481</td>\n",
       "      <td>40.731152</td>\n",
       "      <td>N</td>\n",
       "      <td>663</td>\n",
       "    </tr>\n",
       "    <tr>\n",
       "      <th>2</th>\n",
       "      <td>2</td>\n",
       "      <td>2016-01-19 11:35:24</td>\n",
       "      <td>2016-01-19 12:10:48</td>\n",
       "      <td>1</td>\n",
       "      <td>-73.979027</td>\n",
       "      <td>40.763939</td>\n",
       "      <td>-74.005333</td>\n",
       "      <td>40.710087</td>\n",
       "      <td>N</td>\n",
       "      <td>2124</td>\n",
       "    </tr>\n",
       "    <tr>\n",
       "      <th>3</th>\n",
       "      <td>2</td>\n",
       "      <td>2016-04-06 19:32:31</td>\n",
       "      <td>2016-04-06 19:39:40</td>\n",
       "      <td>1</td>\n",
       "      <td>-74.010040</td>\n",
       "      <td>40.719971</td>\n",
       "      <td>-74.012268</td>\n",
       "      <td>40.706718</td>\n",
       "      <td>N</td>\n",
       "      <td>429</td>\n",
       "    </tr>\n",
       "    <tr>\n",
       "      <th>4</th>\n",
       "      <td>2</td>\n",
       "      <td>2016-03-26 13:30:55</td>\n",
       "      <td>2016-03-26 13:38:10</td>\n",
       "      <td>1</td>\n",
       "      <td>-73.973053</td>\n",
       "      <td>40.793209</td>\n",
       "      <td>-73.972923</td>\n",
       "      <td>40.782520</td>\n",
       "      <td>N</td>\n",
       "      <td>435</td>\n",
       "    </tr>\n",
       "  </tbody>\n",
       "</table>\n",
       "</div>"
      ],
      "text/plain": [
       "   vendor_id     pickup_datetime    dropoff_datetime  passenger_count  \\\n",
       "0          2 2016-03-14 17:24:55 2016-03-14 17:32:30                1   \n",
       "1          1 2016-06-12 00:43:35 2016-06-12 00:54:38                1   \n",
       "2          2 2016-01-19 11:35:24 2016-01-19 12:10:48                1   \n",
       "3          2 2016-04-06 19:32:31 2016-04-06 19:39:40                1   \n",
       "4          2 2016-03-26 13:30:55 2016-03-26 13:38:10                1   \n",
       "\n",
       "   pickup_longitude  pickup_latitude  dropoff_longitude  dropoff_latitude  \\\n",
       "0        -73.982155        40.767937         -73.964630         40.765602   \n",
       "1        -73.980415        40.738564         -73.999481         40.731152   \n",
       "2        -73.979027        40.763939         -74.005333         40.710087   \n",
       "3        -74.010040        40.719971         -74.012268         40.706718   \n",
       "4        -73.973053        40.793209         -73.972923         40.782520   \n",
       "\n",
       "  store_and_fwd_flag  trip_duration  \n",
       "0                  N            455  \n",
       "1                  N            663  \n",
       "2                  N           2124  \n",
       "3                  N            429  \n",
       "4                  N            435  "
      ]
     },
     "execution_count": 8,
     "metadata": {},
     "output_type": "execute_result"
    }
   ],
   "source": [
    "train.head()"
   ]
  },
  {
   "cell_type": "markdown",
   "metadata": {},
   "source": [
    "#### Voy a usar fuentes externas de informacion, como los dias de festivos en el año 2016 en NY y la climatologia de ese año."
   ]
  },
  {
   "cell_type": "code",
   "execution_count": 9,
   "metadata": {},
   "outputs": [],
   "source": [
    "hf = pd.read_csv(\"D:/BBDD/TAXI_NYC/NYC_2016Holidays.csv\", sep=';')\n",
    "hf['Date']  = pd.to_datetime(hf['Date'])\n",
    "#hf"
   ]
  },
  {
   "cell_type": "code",
   "execution_count": 10,
   "metadata": {},
   "outputs": [],
   "source": [
    "wf = pd.read_csv('D:/BBDD/TAXI_NYC/weather_NY_2016.csv')\n",
    "wf['date']  = pd.to_datetime(wf['date'])\n",
    "\n",
    "#wf.head()"
   ]
  },
  {
   "cell_type": "code",
   "execution_count": 11,
   "metadata": {},
   "outputs": [],
   "source": [
    "coords = np.vstack((train[['pickup_latitude',  'pickup_longitude']].values,\n",
    "                    train[['dropoff_latitude', 'dropoff_longitude']].values,\n",
    "                    train[['pickup_latitude',  'pickup_longitude']].values,\n",
    "                    train[['dropoff_latitude', 'dropoff_longitude']].values))\n",
    "kmeans = MiniBatchKMeans(n_clusters=100, batch_size=10000).fit(coords)"
   ]
  },
  {
   "cell_type": "code",
   "execution_count": 12,
   "metadata": {},
   "outputs": [],
   "source": [
    "def derive_features(train):\n",
    "    train = train.copy()\n",
    "    # Pickup-based features\n",
    "    train['pickup_date'] = train['pickup_datetime'].dt.date\n",
    "    train['pickup_weekday'] = train['pickup_datetime'].dt.weekday\n",
    "    train['pickup_hour'] = train['pickup_datetime'].dt.hour\n",
    "    train['pickup_month'] = train['pickup_datetime'].dt.month\n",
    "    train['pickup_day'] = train['pickup_datetime'].dt.day\n",
    "    # Brand new features\n",
    "    train['haversine_distance'] = train.apply(lambda x: haversine((x['pickup_latitude'],  x['pickup_longitude']), \n",
    "                                                            (x['dropoff_latitude'], x['dropoff_longitude'])), axis=1)\n",
    "    #train['pickup_cluster']  = kmeans.predict(train[['pickup_latitude', 'pickup_longitude']])\n",
    "    #train['dropoff_cluster'] = kmeans.predict(train[['dropoff_latitude', 'dropoff_longitude']])\n",
    "    return train"
   ]
  },
  {
   "cell_type": "code",
   "execution_count": 13,
   "metadata": {},
   "outputs": [],
   "source": [
    "train = derive_features(train)"
   ]
  },
  {
   "cell_type": "code",
   "execution_count": 14,
   "metadata": {},
   "outputs": [],
   "source": [
    "def derive_features_test(test):\n",
    "    test = test.copy()\n",
    "    # Pickup-based features\n",
    "    test['pickup_date'] = test['pickup_datetime'].dt.date\n",
    "    test['pickup_weekday'] = test['pickup_datetime'].dt.weekday\n",
    "    test['pickup_hour'] = test['pickup_datetime'].dt.hour\n",
    "    test['pickup_month'] = test['pickup_datetime'].dt.month\n",
    "    test['pickup_day'] = test['pickup_datetime'].dt.day\n",
    "    # Brand new features\n",
    "    test['haversine_distance'] = test.apply(lambda x: haversine((x['pickup_latitude'],  x['pickup_longitude']), \n",
    "                                                            (x['dropoff_latitude'], x['dropoff_longitude'])), axis=1)\n",
    "    #test['pickup_cluster']  = kmeans.predict(test[['pickup_latitude', 'pickup_longitude']])\n",
    "    #test['dropoff_cluster'] = kmeans.predict(test[['dropoff_latitude', 'dropoff_longitude']])\n",
    "    return test"
   ]
  },
  {
   "cell_type": "code",
   "execution_count": 15,
   "metadata": {},
   "outputs": [],
   "source": [
    "test = derive_features_test(test)"
   ]
  },
  {
   "cell_type": "code",
   "execution_count": 16,
   "metadata": {},
   "outputs": [],
   "source": [
    "def clean_data(train):\n",
    "    train = train.copy()\n",
    "    train = train[(train['trip_duration'] > 60) & (train['trip_duration'] < 3600 * 24)] # Trip duration filtering\n",
    "    train = train[(train['haversine_distance'] > 0.01)] # Distance filtering\n",
    "    return train"
   ]
  },
  {
   "cell_type": "code",
   "execution_count": 17,
   "metadata": {},
   "outputs": [],
   "source": [
    "train = clean_data(train)"
   ]
  },
  {
   "cell_type": "code",
   "execution_count": 18,
   "metadata": {},
   "outputs": [],
   "source": [
    "def clean_data_test(test):\n",
    "    test = test.copy()\n",
    "    #test = test[(test['trip_duration'] > 60) & (test['trip_duration'] < 3600 * 24)] # Trip duration filtering\n",
    "    test = test[(test['haversine_distance'] > 0.01)] # Distance filtering\n",
    "    return test"
   ]
  },
  {
   "cell_type": "code",
   "execution_count": 19,
   "metadata": {},
   "outputs": [],
   "source": [
    "test = clean_data_test(test)"
   ]
  },
  {
   "cell_type": "code",
   "execution_count": 20,
   "metadata": {},
   "outputs": [
    {
     "data": {
      "text/html": [
       "<div>\n",
       "<style scoped>\n",
       "    .dataframe tbody tr th:only-of-type {\n",
       "        vertical-align: middle;\n",
       "    }\n",
       "\n",
       "    .dataframe tbody tr th {\n",
       "        vertical-align: top;\n",
       "    }\n",
       "\n",
       "    .dataframe thead th {\n",
       "        text-align: right;\n",
       "    }\n",
       "</style>\n",
       "<table border=\"1\" class=\"dataframe\">\n",
       "  <thead>\n",
       "    <tr style=\"text-align: right;\">\n",
       "      <th></th>\n",
       "      <th>date</th>\n",
       "      <th>maximum temperature</th>\n",
       "      <th>minimum temperature</th>\n",
       "      <th>average temperature</th>\n",
       "      <th>precipitation</th>\n",
       "      <th>snow fall</th>\n",
       "      <th>snow depth</th>\n",
       "    </tr>\n",
       "  </thead>\n",
       "  <tbody>\n",
       "    <tr>\n",
       "      <th>361</th>\n",
       "      <td>2016-12-27</td>\n",
       "      <td>60</td>\n",
       "      <td>40</td>\n",
       "      <td>50.0</td>\n",
       "      <td>0.00</td>\n",
       "      <td>0.00</td>\n",
       "      <td>0.0</td>\n",
       "    </tr>\n",
       "    <tr>\n",
       "      <th>362</th>\n",
       "      <td>2016-12-28</td>\n",
       "      <td>40</td>\n",
       "      <td>34</td>\n",
       "      <td>37.0</td>\n",
       "      <td>0.00</td>\n",
       "      <td>0.00</td>\n",
       "      <td>0.0</td>\n",
       "    </tr>\n",
       "    <tr>\n",
       "      <th>363</th>\n",
       "      <td>2016-12-29</td>\n",
       "      <td>46</td>\n",
       "      <td>33</td>\n",
       "      <td>39.5</td>\n",
       "      <td>0.39</td>\n",
       "      <td>0.00</td>\n",
       "      <td>0.0</td>\n",
       "    </tr>\n",
       "    <tr>\n",
       "      <th>364</th>\n",
       "      <td>2016-12-30</td>\n",
       "      <td>40</td>\n",
       "      <td>33</td>\n",
       "      <td>36.5</td>\n",
       "      <td>0.01</td>\n",
       "      <td>0.01</td>\n",
       "      <td>0.0</td>\n",
       "    </tr>\n",
       "    <tr>\n",
       "      <th>365</th>\n",
       "      <td>2016-12-31</td>\n",
       "      <td>44</td>\n",
       "      <td>31</td>\n",
       "      <td>37.5</td>\n",
       "      <td>0.00</td>\n",
       "      <td>0.00</td>\n",
       "      <td>0.0</td>\n",
       "    </tr>\n",
       "  </tbody>\n",
       "</table>\n",
       "</div>"
      ],
      "text/plain": [
       "          date  maximum temperature  minimum temperature  average temperature  \\\n",
       "361 2016-12-27                   60                   40                 50.0   \n",
       "362 2016-12-28                   40                   34                 37.0   \n",
       "363 2016-12-29                   46                   33                 39.5   \n",
       "364 2016-12-30                   40                   33                 36.5   \n",
       "365 2016-12-31                   44                   31                 37.5   \n",
       "\n",
       "     precipitation  snow fall  snow depth  \n",
       "361           0.00       0.00         0.0  \n",
       "362           0.00       0.00         0.0  \n",
       "363           0.39       0.00         0.0  \n",
       "364           0.01       0.01         0.0  \n",
       "365           0.00       0.00         0.0  "
      ]
     },
     "execution_count": 20,
     "metadata": {},
     "output_type": "execute_result"
    }
   ],
   "source": [
    "wf = wf.replace(to_replace='T', value=0.01)\n",
    "\n",
    "wf['precipitation'] = pd.to_numeric(wf['precipitation'])\n",
    "wf['snow fall'] = pd.to_numeric(wf['snow fall'])\n",
    "wf['snow depth'] = pd.to_numeric(wf['snow depth'])\n",
    "\n",
    "wf.tail()"
   ]
  },
  {
   "cell_type": "code",
   "execution_count": 21,
   "metadata": {
    "scrolled": true
   },
   "outputs": [
    {
     "data": {
      "text/html": [
       "<div>\n",
       "<style scoped>\n",
       "    .dataframe tbody tr th:only-of-type {\n",
       "        vertical-align: middle;\n",
       "    }\n",
       "\n",
       "    .dataframe tbody tr th {\n",
       "        vertical-align: top;\n",
       "    }\n",
       "\n",
       "    .dataframe thead th {\n",
       "        text-align: right;\n",
       "    }\n",
       "</style>\n",
       "<table border=\"1\" class=\"dataframe\">\n",
       "  <thead>\n",
       "    <tr style=\"text-align: right;\">\n",
       "      <th></th>\n",
       "      <th>vendor_id</th>\n",
       "      <th>pickup_datetime</th>\n",
       "      <th>dropoff_datetime</th>\n",
       "      <th>passenger_count</th>\n",
       "      <th>pickup_longitude</th>\n",
       "      <th>pickup_latitude</th>\n",
       "      <th>dropoff_longitude</th>\n",
       "      <th>dropoff_latitude</th>\n",
       "      <th>store_and_fwd_flag</th>\n",
       "      <th>trip_duration</th>\n",
       "      <th>...</th>\n",
       "      <th>pickup_month</th>\n",
       "      <th>pickup_day</th>\n",
       "      <th>haversine_distance</th>\n",
       "      <th>date</th>\n",
       "      <th>maximum temperature</th>\n",
       "      <th>minimum temperature</th>\n",
       "      <th>average temperature</th>\n",
       "      <th>precipitation</th>\n",
       "      <th>snow fall</th>\n",
       "      <th>snow depth</th>\n",
       "    </tr>\n",
       "  </thead>\n",
       "  <tbody>\n",
       "    <tr>\n",
       "      <th>1445037</th>\n",
       "      <td>2</td>\n",
       "      <td>2016-04-05 20:26:41</td>\n",
       "      <td>2016-04-05 20:49:50</td>\n",
       "      <td>1</td>\n",
       "      <td>-73.873192</td>\n",
       "      <td>40.774109</td>\n",
       "      <td>-74.010147</td>\n",
       "      <td>40.711491</td>\n",
       "      <td>N</td>\n",
       "      <td>1389</td>\n",
       "      <td>...</td>\n",
       "      <td>4</td>\n",
       "      <td>5</td>\n",
       "      <td>13.476162</td>\n",
       "      <td>2016-04-05</td>\n",
       "      <td>52</td>\n",
       "      <td>48</td>\n",
       "      <td>50.0</td>\n",
       "      <td>0.01</td>\n",
       "      <td>0.0</td>\n",
       "      <td>0.0</td>\n",
       "    </tr>\n",
       "    <tr>\n",
       "      <th>1445038</th>\n",
       "      <td>2</td>\n",
       "      <td>2016-04-05 12:32:31</td>\n",
       "      <td>2016-04-05 12:47:20</td>\n",
       "      <td>2</td>\n",
       "      <td>-73.966721</td>\n",
       "      <td>40.757389</td>\n",
       "      <td>-73.987961</td>\n",
       "      <td>40.736179</td>\n",
       "      <td>N</td>\n",
       "      <td>889</td>\n",
       "      <td>...</td>\n",
       "      <td>4</td>\n",
       "      <td>5</td>\n",
       "      <td>2.960365</td>\n",
       "      <td>2016-04-05</td>\n",
       "      <td>52</td>\n",
       "      <td>48</td>\n",
       "      <td>50.0</td>\n",
       "      <td>0.01</td>\n",
       "      <td>0.0</td>\n",
       "      <td>0.0</td>\n",
       "    </tr>\n",
       "    <tr>\n",
       "      <th>1445039</th>\n",
       "      <td>2</td>\n",
       "      <td>2016-04-05 07:58:52</td>\n",
       "      <td>2016-04-05 08:11:02</td>\n",
       "      <td>2</td>\n",
       "      <td>-73.982269</td>\n",
       "      <td>40.772461</td>\n",
       "      <td>-73.965378</td>\n",
       "      <td>40.800949</td>\n",
       "      <td>N</td>\n",
       "      <td>730</td>\n",
       "      <td>...</td>\n",
       "      <td>4</td>\n",
       "      <td>5</td>\n",
       "      <td>3.472318</td>\n",
       "      <td>2016-04-05</td>\n",
       "      <td>52</td>\n",
       "      <td>48</td>\n",
       "      <td>50.0</td>\n",
       "      <td>0.01</td>\n",
       "      <td>0.0</td>\n",
       "      <td>0.0</td>\n",
       "    </tr>\n",
       "    <tr>\n",
       "      <th>1445040</th>\n",
       "      <td>2</td>\n",
       "      <td>2016-04-05 23:03:38</td>\n",
       "      <td>2016-04-05 23:16:42</td>\n",
       "      <td>2</td>\n",
       "      <td>-73.986488</td>\n",
       "      <td>40.761898</td>\n",
       "      <td>-73.979988</td>\n",
       "      <td>40.732452</td>\n",
       "      <td>N</td>\n",
       "      <td>784</td>\n",
       "      <td>...</td>\n",
       "      <td>4</td>\n",
       "      <td>5</td>\n",
       "      <td>3.319685</td>\n",
       "      <td>2016-04-05</td>\n",
       "      <td>52</td>\n",
       "      <td>48</td>\n",
       "      <td>50.0</td>\n",
       "      <td>0.01</td>\n",
       "      <td>0.0</td>\n",
       "      <td>0.0</td>\n",
       "    </tr>\n",
       "    <tr>\n",
       "      <th>1445041</th>\n",
       "      <td>1</td>\n",
       "      <td>2016-04-05 14:44:25</td>\n",
       "      <td>2016-04-05 14:47:43</td>\n",
       "      <td>1</td>\n",
       "      <td>-73.979538</td>\n",
       "      <td>40.781750</td>\n",
       "      <td>-73.972809</td>\n",
       "      <td>40.790585</td>\n",
       "      <td>N</td>\n",
       "      <td>198</td>\n",
       "      <td>...</td>\n",
       "      <td>4</td>\n",
       "      <td>5</td>\n",
       "      <td>1.134044</td>\n",
       "      <td>2016-04-05</td>\n",
       "      <td>52</td>\n",
       "      <td>48</td>\n",
       "      <td>50.0</td>\n",
       "      <td>0.01</td>\n",
       "      <td>0.0</td>\n",
       "      <td>0.0</td>\n",
       "    </tr>\n",
       "  </tbody>\n",
       "</table>\n",
       "<p>5 rows × 23 columns</p>\n",
       "</div>"
      ],
      "text/plain": [
       "         vendor_id     pickup_datetime    dropoff_datetime  passenger_count  \\\n",
       "1445037          2 2016-04-05 20:26:41 2016-04-05 20:49:50                1   \n",
       "1445038          2 2016-04-05 12:32:31 2016-04-05 12:47:20                2   \n",
       "1445039          2 2016-04-05 07:58:52 2016-04-05 08:11:02                2   \n",
       "1445040          2 2016-04-05 23:03:38 2016-04-05 23:16:42                2   \n",
       "1445041          1 2016-04-05 14:44:25 2016-04-05 14:47:43                1   \n",
       "\n",
       "         pickup_longitude  pickup_latitude  dropoff_longitude  \\\n",
       "1445037        -73.873192        40.774109         -74.010147   \n",
       "1445038        -73.966721        40.757389         -73.987961   \n",
       "1445039        -73.982269        40.772461         -73.965378   \n",
       "1445040        -73.986488        40.761898         -73.979988   \n",
       "1445041        -73.979538        40.781750         -73.972809   \n",
       "\n",
       "         dropoff_latitude store_and_fwd_flag  trip_duration  ... pickup_month  \\\n",
       "1445037         40.711491                  N           1389  ...            4   \n",
       "1445038         40.736179                  N            889  ...            4   \n",
       "1445039         40.800949                  N            730  ...            4   \n",
       "1445040         40.732452                  N            784  ...            4   \n",
       "1445041         40.790585                  N            198  ...            4   \n",
       "\n",
       "         pickup_day  haversine_distance       date  maximum temperature  \\\n",
       "1445037           5           13.476162 2016-04-05                   52   \n",
       "1445038           5            2.960365 2016-04-05                   52   \n",
       "1445039           5            3.472318 2016-04-05                   52   \n",
       "1445040           5            3.319685 2016-04-05                   52   \n",
       "1445041           5            1.134044 2016-04-05                   52   \n",
       "\n",
       "         minimum temperature average temperature  precipitation  snow fall  \\\n",
       "1445037                   48                50.0           0.01        0.0   \n",
       "1445038                   48                50.0           0.01        0.0   \n",
       "1445039                   48                50.0           0.01        0.0   \n",
       "1445040                   48                50.0           0.01        0.0   \n",
       "1445041                   48                50.0           0.01        0.0   \n",
       "\n",
       "         snow depth  \n",
       "1445037         0.0  \n",
       "1445038         0.0  \n",
       "1445039         0.0  \n",
       "1445040         0.0  \n",
       "1445041         0.0  \n",
       "\n",
       "[5 rows x 23 columns]"
      ]
     },
     "execution_count": 21,
     "metadata": {},
     "output_type": "execute_result"
    }
   ],
   "source": [
    "train['pickup_date']   = pd.to_datetime(train['pickup_date'])\n",
    "mf_train = train.merge(wf, left_on='pickup_date', right_on='date', how='inner')\n",
    "mf_train.tail()"
   ]
  },
  {
   "cell_type": "code",
   "execution_count": 22,
   "metadata": {
    "scrolled": true
   },
   "outputs": [
    {
     "data": {
      "text/html": [
       "<div>\n",
       "<style scoped>\n",
       "    .dataframe tbody tr th:only-of-type {\n",
       "        vertical-align: middle;\n",
       "    }\n",
       "\n",
       "    .dataframe tbody tr th {\n",
       "        vertical-align: top;\n",
       "    }\n",
       "\n",
       "    .dataframe thead th {\n",
       "        text-align: right;\n",
       "    }\n",
       "</style>\n",
       "<table border=\"1\" class=\"dataframe\">\n",
       "  <thead>\n",
       "    <tr style=\"text-align: right;\">\n",
       "      <th></th>\n",
       "      <th>vendor_id</th>\n",
       "      <th>pickup_datetime</th>\n",
       "      <th>passenger_count</th>\n",
       "      <th>pickup_longitude</th>\n",
       "      <th>pickup_latitude</th>\n",
       "      <th>dropoff_longitude</th>\n",
       "      <th>dropoff_latitude</th>\n",
       "      <th>store_and_fwd_flag</th>\n",
       "      <th>pickup_date</th>\n",
       "      <th>pickup_weekday</th>\n",
       "      <th>...</th>\n",
       "      <th>pickup_month</th>\n",
       "      <th>pickup_day</th>\n",
       "      <th>haversine_distance</th>\n",
       "      <th>date</th>\n",
       "      <th>maximum temperature</th>\n",
       "      <th>minimum temperature</th>\n",
       "      <th>average temperature</th>\n",
       "      <th>precipitation</th>\n",
       "      <th>snow fall</th>\n",
       "      <th>snow depth</th>\n",
       "    </tr>\n",
       "  </thead>\n",
       "  <tbody>\n",
       "    <tr>\n",
       "      <th>621376</th>\n",
       "      <td>1</td>\n",
       "      <td>2016-01-01 00:02:52</td>\n",
       "      <td>1</td>\n",
       "      <td>-74.003464</td>\n",
       "      <td>40.725105</td>\n",
       "      <td>-74.001251</td>\n",
       "      <td>40.733643</td>\n",
       "      <td>N</td>\n",
       "      <td>2016-01-01</td>\n",
       "      <td>4</td>\n",
       "      <td>...</td>\n",
       "      <td>1</td>\n",
       "      <td>1</td>\n",
       "      <td>0.967439</td>\n",
       "      <td>2016-01-01</td>\n",
       "      <td>42</td>\n",
       "      <td>34</td>\n",
       "      <td>38.0</td>\n",
       "      <td>0.0</td>\n",
       "      <td>0.0</td>\n",
       "      <td>0.0</td>\n",
       "    </tr>\n",
       "    <tr>\n",
       "      <th>621377</th>\n",
       "      <td>1</td>\n",
       "      <td>2016-01-01 00:01:52</td>\n",
       "      <td>1</td>\n",
       "      <td>-74.006363</td>\n",
       "      <td>40.743782</td>\n",
       "      <td>-73.953407</td>\n",
       "      <td>40.782467</td>\n",
       "      <td>N</td>\n",
       "      <td>2016-01-01</td>\n",
       "      <td>4</td>\n",
       "      <td>...</td>\n",
       "      <td>1</td>\n",
       "      <td>1</td>\n",
       "      <td>6.196352</td>\n",
       "      <td>2016-01-01</td>\n",
       "      <td>42</td>\n",
       "      <td>34</td>\n",
       "      <td>38.0</td>\n",
       "      <td>0.0</td>\n",
       "      <td>0.0</td>\n",
       "      <td>0.0</td>\n",
       "    </tr>\n",
       "    <tr>\n",
       "      <th>621378</th>\n",
       "      <td>1</td>\n",
       "      <td>2016-01-01 00:01:24</td>\n",
       "      <td>2</td>\n",
       "      <td>-73.972267</td>\n",
       "      <td>40.759865</td>\n",
       "      <td>-73.876602</td>\n",
       "      <td>40.748665</td>\n",
       "      <td>N</td>\n",
       "      <td>2016-01-01</td>\n",
       "      <td>4</td>\n",
       "      <td>...</td>\n",
       "      <td>1</td>\n",
       "      <td>1</td>\n",
       "      <td>8.153730</td>\n",
       "      <td>2016-01-01</td>\n",
       "      <td>42</td>\n",
       "      <td>34</td>\n",
       "      <td>38.0</td>\n",
       "      <td>0.0</td>\n",
       "      <td>0.0</td>\n",
       "      <td>0.0</td>\n",
       "    </tr>\n",
       "    <tr>\n",
       "      <th>621379</th>\n",
       "      <td>1</td>\n",
       "      <td>2016-01-01 00:00:28</td>\n",
       "      <td>1</td>\n",
       "      <td>-73.976501</td>\n",
       "      <td>40.733562</td>\n",
       "      <td>-73.854263</td>\n",
       "      <td>40.891788</td>\n",
       "      <td>N</td>\n",
       "      <td>2016-01-01</td>\n",
       "      <td>4</td>\n",
       "      <td>...</td>\n",
       "      <td>1</td>\n",
       "      <td>1</td>\n",
       "      <td>20.380776</td>\n",
       "      <td>2016-01-01</td>\n",
       "      <td>42</td>\n",
       "      <td>34</td>\n",
       "      <td>38.0</td>\n",
       "      <td>0.0</td>\n",
       "      <td>0.0</td>\n",
       "      <td>0.0</td>\n",
       "    </tr>\n",
       "    <tr>\n",
       "      <th>621380</th>\n",
       "      <td>2</td>\n",
       "      <td>2016-01-01 00:00:22</td>\n",
       "      <td>2</td>\n",
       "      <td>-73.981850</td>\n",
       "      <td>40.716881</td>\n",
       "      <td>-73.969330</td>\n",
       "      <td>40.769379</td>\n",
       "      <td>N</td>\n",
       "      <td>2016-01-01</td>\n",
       "      <td>4</td>\n",
       "      <td>...</td>\n",
       "      <td>1</td>\n",
       "      <td>1</td>\n",
       "      <td>5.932027</td>\n",
       "      <td>2016-01-01</td>\n",
       "      <td>42</td>\n",
       "      <td>34</td>\n",
       "      <td>38.0</td>\n",
       "      <td>0.0</td>\n",
       "      <td>0.0</td>\n",
       "      <td>0.0</td>\n",
       "    </tr>\n",
       "  </tbody>\n",
       "</table>\n",
       "<p>5 rows × 21 columns</p>\n",
       "</div>"
      ],
      "text/plain": [
       "        vendor_id     pickup_datetime  passenger_count  pickup_longitude  \\\n",
       "621376          1 2016-01-01 00:02:52                1        -74.003464   \n",
       "621377          1 2016-01-01 00:01:52                1        -74.006363   \n",
       "621378          1 2016-01-01 00:01:24                2        -73.972267   \n",
       "621379          1 2016-01-01 00:00:28                1        -73.976501   \n",
       "621380          2 2016-01-01 00:00:22                2        -73.981850   \n",
       "\n",
       "        pickup_latitude  dropoff_longitude  dropoff_latitude  \\\n",
       "621376        40.725105         -74.001251         40.733643   \n",
       "621377        40.743782         -73.953407         40.782467   \n",
       "621378        40.759865         -73.876602         40.748665   \n",
       "621379        40.733562         -73.854263         40.891788   \n",
       "621380        40.716881         -73.969330         40.769379   \n",
       "\n",
       "       store_and_fwd_flag pickup_date  pickup_weekday  ...  pickup_month  \\\n",
       "621376                  N  2016-01-01               4  ...             1   \n",
       "621377                  N  2016-01-01               4  ...             1   \n",
       "621378                  N  2016-01-01               4  ...             1   \n",
       "621379                  N  2016-01-01               4  ...             1   \n",
       "621380                  N  2016-01-01               4  ...             1   \n",
       "\n",
       "        pickup_day  haversine_distance       date maximum temperature  \\\n",
       "621376           1            0.967439 2016-01-01                  42   \n",
       "621377           1            6.196352 2016-01-01                  42   \n",
       "621378           1            8.153730 2016-01-01                  42   \n",
       "621379           1           20.380776 2016-01-01                  42   \n",
       "621380           1            5.932027 2016-01-01                  42   \n",
       "\n",
       "        minimum temperature  average temperature  precipitation  snow fall  \\\n",
       "621376                   34                 38.0            0.0        0.0   \n",
       "621377                   34                 38.0            0.0        0.0   \n",
       "621378                   34                 38.0            0.0        0.0   \n",
       "621379                   34                 38.0            0.0        0.0   \n",
       "621380                   34                 38.0            0.0        0.0   \n",
       "\n",
       "        snow depth  \n",
       "621376         0.0  \n",
       "621377         0.0  \n",
       "621378         0.0  \n",
       "621379         0.0  \n",
       "621380         0.0  \n",
       "\n",
       "[5 rows x 21 columns]"
      ]
     },
     "execution_count": 22,
     "metadata": {},
     "output_type": "execute_result"
    }
   ],
   "source": [
    "test['pickup_date']   = pd.to_datetime(test['pickup_date'])\n",
    "mf_test = test.merge(wf, left_on='pickup_date', right_on='date', how='inner')\n",
    "mf_test.tail()"
   ]
  },
  {
   "cell_type": "code",
   "execution_count": 23,
   "metadata": {},
   "outputs": [],
   "source": [
    "train=mf_train\n",
    "test=mf_test"
   ]
  },
  {
   "cell_type": "code",
   "execution_count": 24,
   "metadata": {},
   "outputs": [
    {
     "data": {
      "text/plain": [
       "(1445042, 23)"
      ]
     },
     "execution_count": 24,
     "metadata": {},
     "output_type": "execute_result"
    }
   ],
   "source": [
    "train.shape"
   ]
  },
  {
   "cell_type": "code",
   "execution_count": 25,
   "metadata": {},
   "outputs": [
    {
     "name": "stdout",
     "output_type": "stream",
     "text": [
      " max time in min 98.92 and mean time in sec 840.27 \n"
     ]
    }
   ],
   "source": [
    "train = train[train['trip_duration'] <  train['trip_duration'].quantile(0.999)]\n",
    "train = train[train['trip_duration'] <= train['trip_duration'].mean() + 3*train['trip_duration'].std()]\n",
    "print(' max time in min {:.2f} and mean time in sec {:.2f} '.format(\n",
    "    train['trip_duration'].max()/60, train['trip_duration'].mean()))"
   ]
  },
  {
   "cell_type": "code",
   "execution_count": 26,
   "metadata": {},
   "outputs": [],
   "source": [
    "ep = 0.0001      \n",
    "(lng1,lng2)=(-74.257*(1+ep), -73.699*(1-ep))\n",
    "(lat1,lat2)=(40.495*(1+ep), 40.915*(1-ep)) \n",
    "train = train[(train['pickup_longitude'] <=lng2)&(train['pickup_longitude'] >=lng1)]\n",
    "train = train[(train['pickup_latitude'] <=lat2) & (train['pickup_latitude'] >=lat1)]\n",
    "train = train[(train['dropoff_longitude'] <=lng2)&(train['dropoff_longitude'] >=lng1)]\n",
    "train = train[(train['dropoff_latitude'] <=lat2)&(train['dropoff_latitude'] >=lat1)]\n"
   ]
  },
  {
   "cell_type": "code",
   "execution_count": 27,
   "metadata": {},
   "outputs": [],
   "source": [
    "ep = 0.0001      \n",
    "(lng1,lng2)=(-74.257*(1+ep), -73.699*(1-ep))\n",
    "(lat1,lat2)=(40.495*(1+ep), 40.915*(1-ep)) \n",
    "test = test[(test['pickup_longitude'] <=lng2)&(test['pickup_longitude'] >=lng1)]\n",
    "test = test[(test['pickup_latitude'] <=lat2) & (test['pickup_latitude'] >=lat1)]\n",
    "test = test[(test['dropoff_longitude'] <=lng2)&(test['dropoff_longitude'] >=lng1)]\n",
    "test = test[(test['dropoff_latitude'] <=lat2)&(test['dropoff_latitude'] >=lat1)]"
   ]
  },
  {
   "cell_type": "code",
   "execution_count": 28,
   "metadata": {},
   "outputs": [],
   "source": [
    "from pandas.tseries.holiday import USFederalHolidayCalendar as calendar"
   ]
  },
  {
   "cell_type": "code",
   "execution_count": 29,
   "metadata": {},
   "outputs": [],
   "source": [
    "train['log_trip_duration'] = np.log(train['trip_duration'].values + 1)\n",
    "train['pickup_datetime'] = pd.to_datetime(train.pickup_datetime)\n",
    "train['Month'] = train['pickup_datetime'].dt.month\n",
    "train['DayofMonth'] = train['pickup_datetime'].dt.day\n",
    "train['Timehm'] =train['pickup_datetime'].dt.hour+train['pickup_datetime'].dt.minute/60\n",
    "train['dayofweek'] = train['pickup_datetime'].dt.dayofweek\n",
    "\n",
    "holidays = calendar().holidays(start='2015-12-31', end='2016-07-01')\n",
    "train['Holiday']=train['pickup_datetime'].dt.date.astype('datetime64[ns]').isin(holidays).astype(int)\n",
    "train.drop(['trip_duration','dropoff_datetime','pickup_datetime'], axis=1,inplace=True)\n",
    "train['store_and_fwd_flag'] = train['store_and_fwd_flag'].map({'N': 0, 'Y':1}).astype(int)\n",
    "#train.info()\n"
   ]
  },
  {
   "cell_type": "code",
   "execution_count": 30,
   "metadata": {},
   "outputs": [],
   "source": [
    "\n",
    "test['Month'] = test['pickup_datetime'].dt.month\n",
    "test['DayofMonth'] = test['pickup_datetime'].dt.day\n",
    "test['Timehm'] =test['pickup_datetime'].dt.hour+test['pickup_datetime'].dt.minute/60\n",
    "test['dayofweek'] = test['pickup_datetime'].dt.dayofweek\n",
    "\n",
    "holidays = calendar().holidays(start='2015-12-31', end='2016-07-01')\n",
    "test['Holiday']=test['pickup_datetime'].dt.date.astype('datetime64[ns]').isin(holidays).astype(int)\n",
    "test.drop(['pickup_datetime'], axis=1,inplace=True)\n",
    "test['store_and_fwd_flag'] = test['store_and_fwd_flag'].map({'N': 0, 'Y':1}).astype(int)\n",
    "#test.info()\n"
   ]
  },
  {
   "cell_type": "code",
   "execution_count": 31,
   "metadata": {},
   "outputs": [],
   "source": [
    "def haversine_array(lat1, lng1, lat2, lng2):\n",
    "    lat1, lng1, lat2, lng2 = map(np.radians, (lat1, lng1, lat2, lng2))\n",
    "    d = np.sin(lat2/2-lat1/2)**2 + np.cos(lat1) * np.cos(lat2) * np.sin(lng2/2-lng1/2)**2\n",
    "    return 2 * 6371 * np.arcsin(np.sqrt(d))"
   ]
  },
  {
   "cell_type": "code",
   "execution_count": 32,
   "metadata": {},
   "outputs": [],
   "source": [
    "def dummy_manhattan_distance(lat1, lng1, lat2, lng2):\n",
    "    return haversine_array(lat1,lng1,lat1,lng2)+haversine_array(lat1,lng1,lat2,lng1)"
   ]
  },
  {
   "cell_type": "code",
   "execution_count": 33,
   "metadata": {},
   "outputs": [],
   "source": [
    "def bearing_array(lat1, lng1, lat2, lng2):\n",
    "    lat1, lng1, lat2, lng2 = map(np.radians, (lat1, lng1, lat2, lng2))\n",
    "    y = np.sin(lng2 - lng1) * np.cos(lat2)\n",
    "    x = np.cos(lat1) * np.sin(lat2) - np.sin(lat1) * np.cos(lat2) * np.cos(lng2 - lng1)\n",
    "    return np.degrees(np.arctan2(y, x))"
   ]
  },
  {
   "cell_type": "code",
   "execution_count": 34,
   "metadata": {},
   "outputs": [],
   "source": [
    "train['distance_haversine'] = haversine_array(train['pickup_latitude'].values, train['pickup_longitude'].values, \n",
    "                                          train['dropoff_latitude'].values, train['dropoff_longitude'].values)\n",
    "\n",
    "train['distance_dummy_manhattan'] =  dummy_manhattan_distance(train['pickup_latitude'].values, \n",
    "            train['pickup_longitude'].values, train['dropoff_latitude'].values, train['dropoff_longitude'].values)\n",
    "\n",
    "train['direction'] = bearing_array(train['pickup_latitude'].values, train['pickup_longitude'].values, \n",
    "                                      train['dropoff_latitude'].values, train['dropoff_longitude'].values)\n",
    "#train.shape"
   ]
  },
  {
   "cell_type": "code",
   "execution_count": 35,
   "metadata": {},
   "outputs": [],
   "source": [
    "test['distance_haversine'] = haversine_array(test['pickup_latitude'].values, test['pickup_longitude'].values, \n",
    "                                          test['dropoff_latitude'].values, test['dropoff_longitude'].values)\n",
    "\n",
    "test['distance_dummy_manhattan'] =  dummy_manhattan_distance(test['pickup_latitude'].values, \n",
    "            test['pickup_longitude'].values, test['dropoff_latitude'].values, test['dropoff_longitude'].values)\n",
    "\n",
    "test['direction'] = bearing_array(test['pickup_latitude'].values, test['pickup_longitude'].values, \n",
    "                                      test['dropoff_latitude'].values, test['dropoff_longitude'].values)\n",
    "#test.shape"
   ]
  },
  {
   "cell_type": "code",
   "execution_count": 36,
   "metadata": {},
   "outputs": [],
   "source": [
    "coords = np.vstack((train[['pickup_latitude', 'pickup_longitude']].values,\n",
    "                    train[['dropoff_latitude', 'dropoff_longitude']].values))\n",
    "sample_ind = np.random.permutation(len(coords))[:1000000]\n",
    "kmeans = MiniBatchKMeans(n_clusters=9**2, batch_size=36**3).fit(coords[sample_ind])\n",
    "train['pickup_cluster'] = kmeans.predict(train[['pickup_latitude', 'pickup_longitude']])\n",
    "train['dropoff_cluster'] = kmeans.predict(train[['dropoff_latitude', 'dropoff_longitude']])\n",
    "#train.shape"
   ]
  },
  {
   "cell_type": "code",
   "execution_count": 37,
   "metadata": {},
   "outputs": [],
   "source": [
    "coords = np.vstack((test[['pickup_latitude', 'pickup_longitude']].values,\n",
    "                    test[['dropoff_latitude', 'dropoff_longitude']].values))\n",
    "sample_ind = np.random.permutation(len(coords))[:1000000]\n",
    "kmeans = MiniBatchKMeans(n_clusters=9**2, batch_size=36**3).fit(coords[sample_ind])\n",
    "test['pickup_cluster'] = kmeans.predict(test[['pickup_latitude', 'pickup_longitude']])\n",
    "test['dropoff_cluster'] = kmeans.predict(test[['dropoff_latitude', 'dropoff_longitude']])\n",
    "#test.shape"
   ]
  },
  {
   "cell_type": "code",
   "execution_count": 38,
   "metadata": {},
   "outputs": [],
   "source": [
    "from sklearn.decomposition import PCA"
   ]
  },
  {
   "cell_type": "code",
   "execution_count": 39,
   "metadata": {},
   "outputs": [],
   "source": [
    "pca = PCA().fit(coords)\n",
    "train['pickup_pca0'] = pca.transform(train[['pickup_latitude', 'pickup_longitude']])[:, 0]\n",
    "train['pickup_pca1'] = pca.transform(train[['pickup_latitude', 'pickup_longitude']])[:, 1]\n",
    "train['dropoff_pca0'] = pca.transform(train[['dropoff_latitude', 'dropoff_longitude']])[:, 0]\n",
    "train['dropoff_pca1'] = pca.transform(train[['dropoff_latitude', 'dropoff_longitude']])[:, 1]\n",
    "train['pca_manhattan'] = np.abs(train['dropoff_pca1']-train['pickup_pca1']) +  np.abs(\n",
    "                                 train['dropoff_pca0']-train['pickup_pca0'])\n",
    "train['center_latitude'] = 0.5*train['pickup_latitude']+0.5*train['dropoff_latitude']\n",
    "train['center_longitude'] = 0.5*train['pickup_longitude']+0.5*train['dropoff_longitude']\n",
    "#del coords, sample_ind, kmeans\n",
    "#train.shape"
   ]
  },
  {
   "cell_type": "code",
   "execution_count": 40,
   "metadata": {},
   "outputs": [],
   "source": [
    "pca = PCA().fit(coords)\n",
    "test['pickup_pca0'] = pca.transform(test[['pickup_latitude', 'pickup_longitude']])[:, 0]\n",
    "test['pickup_pca1'] = pca.transform(test[['pickup_latitude', 'pickup_longitude']])[:, 1]\n",
    "test['dropoff_pca0'] = pca.transform(test[['dropoff_latitude', 'dropoff_longitude']])[:, 0]\n",
    "test['dropoff_pca1'] = pca.transform(test[['dropoff_latitude', 'dropoff_longitude']])[:, 1]\n",
    "test['pca_manhattan'] = np.abs(test['dropoff_pca1']-test['pickup_pca1']) +  np.abs(\n",
    "                                 test['dropoff_pca0']-test['pickup_pca0'])\n",
    "test['center_latitude'] = 0.5*test['pickup_latitude']+0.5*test['dropoff_latitude']\n",
    "test['center_longitude'] = 0.5*test['pickup_longitude']+0.5*test['dropoff_longitude']\n",
    "del coords, sample_ind, kmeans\n",
    "#test.shape"
   ]
  },
  {
   "cell_type": "code",
   "execution_count": 41,
   "metadata": {},
   "outputs": [
    {
     "name": "stdout",
     "output_type": "stream",
     "text": [
      "False\n"
     ]
    }
   ],
   "source": [
    "flag=False\n",
    "if flag:\n",
    "    cols=['id', 'total_distance', 'total_travel_time',  'number_of_steps']\n",
    "    fr1 = pd.read_csv(myfolder+'fastest_routes_train_part_1.csv', usecols=cols)\n",
    "    fr2 = pd.read_csv(myfolder+'fastest_routes_train_part_2.csv', usecols=cols)\n",
    "    fr3 = pd.read_csv(myfolder+'fastest_routes_test.csv', usecols=cols)\n",
    "    tmp = pd.concat((fr1, fr2, fr3))\n",
    "    tmp.columns=['id', 'OSRM_distance', 'OSRM_time',  'OSRM_steps']\n",
    "    Data = Data.merge(tmp, how='left', on='id')\n",
    "    del fr1, fr2, fr3, tmp\n",
    "    gc.collect()\n",
    "    Data.shape\n",
    "print(flag)  "
   ]
  },
  {
   "cell_type": "code",
   "execution_count": 42,
   "metadata": {},
   "outputs": [
    {
     "name": "stdout",
     "output_type": "stream",
     "text": [
      "(1441377, 39) (620958, 38) 2062335 (2062335, 39)\n"
     ]
    }
   ],
   "source": [
    "train['eval_set'] = 1\n",
    "test['eval_set'] = 2\n",
    "Data = pd.concat([train, test], axis=0)\n",
    "print(train.shape,test.shape,len(test)+len(train),Data.shape)"
   ]
  },
  {
   "cell_type": "code",
   "execution_count": 43,
   "metadata": {},
   "outputs": [
    {
     "name": "stdout",
     "output_type": "stream",
     "text": [
      "<class 'pandas.core.frame.DataFrame'>\n",
      "Int64Index: 2062335 entries, 0 to 621380\n",
      "Data columns (total 39 columns):\n",
      "DayofMonth                  int64\n",
      "Holiday                     int32\n",
      "Month                       int64\n",
      "Timehm                      float64\n",
      "average temperature         float64\n",
      "center_latitude             float64\n",
      "center_longitude            float64\n",
      "date                        datetime64[ns]\n",
      "dayofweek                   int64\n",
      "direction                   float64\n",
      "distance_dummy_manhattan    float64\n",
      "distance_haversine          float64\n",
      "dropoff_cluster             int32\n",
      "dropoff_latitude            float64\n",
      "dropoff_longitude           float64\n",
      "dropoff_pca0                float64\n",
      "dropoff_pca1                float64\n",
      "eval_set                    int64\n",
      "haversine_distance          float64\n",
      "log_trip_duration           float64\n",
      "maximum temperature         int64\n",
      "minimum temperature         int64\n",
      "passenger_count             int64\n",
      "pca_manhattan               float64\n",
      "pickup_cluster              int32\n",
      "pickup_date                 datetime64[ns]\n",
      "pickup_day                  int64\n",
      "pickup_hour                 int64\n",
      "pickup_latitude             float64\n",
      "pickup_longitude            float64\n",
      "pickup_month                int64\n",
      "pickup_pca0                 float64\n",
      "pickup_pca1                 float64\n",
      "pickup_weekday              int64\n",
      "precipitation               float64\n",
      "snow depth                  float64\n",
      "snow fall                   float64\n",
      "store_and_fwd_flag          int32\n",
      "vendor_id                   int64\n",
      "dtypes: datetime64[ns](2), float64(21), int32(4), int64(12)\n",
      "memory usage: 597.9 MB\n"
     ]
    }
   ],
   "source": [
    "Data.info()"
   ]
  },
  {
   "cell_type": "code",
   "execution_count": 44,
   "metadata": {},
   "outputs": [],
   "source": [
    "Data.drop(['pickup_date','date'], axis=1,inplace=True)"
   ]
  },
  {
   "cell_type": "code",
   "execution_count": 45,
   "metadata": {},
   "outputs": [],
   "source": [
    "import gc"
   ]
  },
  {
   "cell_type": "code",
   "execution_count": 46,
   "metadata": {},
   "outputs": [
    {
     "name": "stdout",
     "output_type": "stream",
     "text": [
      "(2062335, 37) (1441377, 37) (620958, 37)\n"
     ]
    },
    {
     "data": {
      "text/plain": [
       "70"
      ]
     },
     "execution_count": 46,
     "metadata": {},
     "output_type": "execute_result"
    }
   ],
   "source": [
    "#Test_id = Data['id'].loc[Data['eval_set']==2].to_frame()\n",
    "#Data.drop('id',axis = 1, inplace=True)\n",
    "train = Data[Data['eval_set'] == 1]\n",
    "test = Data[Data['eval_set'] == 2]\n",
    "print(Data.shape, train.shape, test.shape)\n",
    "\n",
    "X=train.drop(['eval_set','log_trip_duration'],axis=1)\n",
    "y=train['log_trip_duration']\n",
    "features=list(X.columns)\n",
    "cfeatures = list(X.select_dtypes(include = ['int64','int32']).columns)\n",
    "\n",
    "X_train, X_eval, y_train, y_eval = train_test_split(X,y, test_size=0.2, random_state=2)\n",
    "\n",
    "#del train, Data\n",
    "gc.collect()"
   ]
  },
  {
   "cell_type": "code",
   "execution_count": 47,
   "metadata": {},
   "outputs": [],
   "source": [
    "import lightgbm as lgb"
   ]
  },
  {
   "cell_type": "code",
   "execution_count": 48,
   "metadata": {},
   "outputs": [
    {
     "name": "stdout",
     "output_type": "stream",
     "text": [
      "formatting and training LightGBM regression ...\n",
      "Training until validation scores don't improve for 10 rounds.\n",
      "[10]\tvalid_0's rmse: 0.519893\n",
      "[20]\tvalid_0's rmse: 0.416823\n",
      "[30]\tvalid_0's rmse: 0.367332\n",
      "[40]\tvalid_0's rmse: 0.343258\n",
      "[50]\tvalid_0's rmse: 0.330541\n",
      "[60]\tvalid_0's rmse: 0.3229\n",
      "[70]\tvalid_0's rmse: 0.317967\n",
      "[80]\tvalid_0's rmse: 0.314238\n",
      "[90]\tvalid_0's rmse: 0.311489\n",
      "[100]\tvalid_0's rmse: 0.3091\n",
      "[110]\tvalid_0's rmse: 0.307032\n",
      "[120]\tvalid_0's rmse: 0.305089\n",
      "[130]\tvalid_0's rmse: 0.303719\n",
      "[140]\tvalid_0's rmse: 0.302162\n",
      "[150]\tvalid_0's rmse: 0.300846\n",
      "[160]\tvalid_0's rmse: 0.299595\n",
      "[170]\tvalid_0's rmse: 0.298513\n",
      "[180]\tvalid_0's rmse: 0.297376\n",
      "[190]\tvalid_0's rmse: 0.296368\n",
      "[200]\tvalid_0's rmse: 0.295419\n",
      "Did not meet early stopping. Best iteration is:\n",
      "[200]\tvalid_0's rmse: 0.295419\n"
     ]
    },
    {
     "data": {
      "text/plain": [
       "41"
      ]
     },
     "execution_count": 48,
     "metadata": {},
     "output_type": "execute_result"
    }
   ],
   "source": [
    "\n",
    "print('formatting and training LightGBM regression ...')\n",
    "# use higher num_boost_round eg 1000\n",
    "\n",
    "lgb_train = lgb.Dataset(X_train.values, y_train.values)\n",
    "lgb_eval = lgb.Dataset(X_eval.values, y_eval.values, reference = lgb_train)\n",
    "params = {'metric': 'rmse', 'learning_rate' : 0.05, 'num_leaves': 512, \n",
    "         'feature_fraction': 0.9,'bagging_fraction':0.9,'bagging_freq':5,'min_data_in_leaf': 500}\n",
    "lgb_model = lgb.train(params, lgb_train, num_boost_round = 200, valid_sets = lgb_eval, \n",
    "             feature_name=features, early_stopping_rounds=10,  verbose_eval = 10)\n",
    "\n",
    "del lgb_train\n",
    "gc.collect()"
   ]
  },
  {
   "cell_type": "code",
   "execution_count": 49,
   "metadata": {},
   "outputs": [
    {
     "data": {
      "image/png": "[encoded data removed]",
      "text/plain": [
       "<Figure size 504x648 with 1 Axes>"
      ]
     },
     "metadata": {
      "needs_background": "light"
     },
     "output_type": "display_data"
    }
   ],
   "source": [
    "lgb.plot_importance(lgb_model,  max_num_features=28, figsize=(7,9))\n",
    "plt.show()"
   ]
  },
  {
   "cell_type": "code",
   "execution_count": 50,
   "metadata": {},
   "outputs": [],
   "source": [
    "\n",
    "def rmsle(y_true, y_pred):\n",
    "    return np.sqrt(mean_squared_logarithmic_error(y_true, y_pred))"
   ]
  },
  {
   "cell_type": "code",
   "execution_count": 51,
   "metadata": {},
   "outputs": [],
   "source": [
    "pred = lgb_model.predict(test.drop(['eval_set','log_trip_duration'], axis=1).values, \n",
    "                         num_iteration = lgb_model.best_iteration)"
   ]
  },
  {
   "cell_type": "code",
   "execution_count": 53,
   "metadata": {},
   "outputs": [
    {
     "name": "stdout",
     "output_type": "stream",
     "text": [
      "train score: 0.2859   eval score: 0.2954\n"
     ]
    }
   ],
   "source": [
    "pred1 = lgb_model.predict(X_train.values, num_iteration = lgb_model.best_iteration)\n",
    "pred2 = lgb_model.predict(X_eval.values, num_iteration = lgb_model.best_iteration)\n",
    "rmsle1= (((y_train-pred1)**2).mean())**0.5\n",
    "rmsle2 = (((y_eval-pred2)**2).mean())**0.5\n",
    "print('train score: {:.4f}   eval score: {:.4f}'.format(rmsle1,rmsle2))"
   ]
  },
  {
   "cell_type": "code",
   "execution_count": null,
   "metadata": {},
   "outputs": [],
   "source": []
  },
  {
   "cell_type": "code",
   "execution_count": null,
   "metadata": {},
   "outputs": [],
   "source": []
  }
 ],
 "metadata": {
  "kernelspec": {
   "display_name": "Python 3",
   "language": "python",
   "name": "python3"
  },
  "language_info": {
   "codemirror_mode": {
    "name": "ipython",
    "version": 3
   },
   "file_extension": ".py",
   "mimetype": "text/x-python",
   "name": "python",
   "nbconvert_exporter": "python",
   "pygments_lexer": "ipython3",
   "version": "3.6.8"
  }
 },
 "nbformat": 4,
 "nbformat_minor": 2
}
